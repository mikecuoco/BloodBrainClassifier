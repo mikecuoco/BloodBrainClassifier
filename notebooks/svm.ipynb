{
 "cells": [
  {
   "cell_type": "markdown",
   "id": "68b47849",
   "metadata": {},
   "source": [
    "# Train and test an SVM"
   ]
  },
  {
   "cell_type": "markdown",
   "id": "af0fa012",
   "metadata": {},
   "source": [
    "## Import boilerplate and setup"
   ]
  },
  {
   "cell_type": "code",
   "execution_count": 1,
   "id": "3a4c41c0",
   "metadata": {},
   "outputs": [
    {
     "data": {
      "text/plain": [
       "'/mnt/c/Users/aryam/Documents/school/2020/spring/cse283/BloodBrainClassifier'"
      ]
     },
     "execution_count": 1,
     "metadata": {},
     "output_type": "execute_result"
    }
   ],
   "source": [
    "# first, change the working directory, if needed\n",
    "import os\n",
    "if os.getcwd().endswith('notebooks'):\n",
    "    os.chdir('..')\n",
    "os.getcwd()"
   ]
  },
  {
   "cell_type": "code",
   "execution_count": 2,
   "id": "f91c01ea",
   "metadata": {},
   "outputs": [],
   "source": [
    "# now, import whatever else we need\n",
    "import sklearn\n",
    "import pandas as pd\n",
    "from sklearn.svm import SVC\n",
    "import scripts.starter as data\n",
    "data.split(test_size=0.2)\n",
    "from sklearn.pipeline import make_pipeline\n",
    "from sklearn.metrics import accuracy_score\n",
    "from sklearn.preprocessing import StandardScaler"
   ]
  },
  {
   "cell_type": "markdown",
   "id": "3cad7be2",
   "metadata": {},
   "source": [
    "## Train SVC model"
   ]
  },
  {
   "cell_type": "code",
   "execution_count": 4,
   "id": "1c0f99ff",
   "metadata": {},
   "outputs": [
    {
     "data": {
      "text/plain": [
       "Pipeline(steps=[('standardscaler', StandardScaler()),\n",
       "                ('svc', SVC(C=0.001, gamma=0.001, kernel='poly'))])"
      ]
     },
     "execution_count": 4,
     "metadata": {},
     "output_type": "execute_result"
    }
   ],
   "source": [
    "clf = make_pipeline(StandardScaler(), SVC(kernel='poly', C=.001,gamma=.001))\n",
    "clf.fit(data.X_train, data.y_train)"
   ]
  },
  {
   "cell_type": "markdown",
   "id": "4fe3ac53",
   "metadata": {},
   "source": [
    "## Test SVC model and evaluate the model's performance"
   ]
  },
  {
   "cell_type": "code",
   "execution_count": 5,
   "id": "4239ead0",
   "metadata": {},
   "outputs": [],
   "source": [
    "y_pred = clf.predict(data.X_test)"
   ]
  },
  {
   "cell_type": "code",
   "execution_count": 6,
   "id": "7d6f8e90",
   "metadata": {},
   "outputs": [
    {
     "data": {
      "text/plain": [
       "0.46153846153846156"
      ]
     },
     "execution_count": 6,
     "metadata": {},
     "output_type": "execute_result"
    }
   ],
   "source": [
    "clf.score(data.X_test, data.y_test)"
   ]
  },
  {
   "cell_type": "markdown",
   "id": "d5b20dee",
   "metadata": {},
   "source": [
    "Wow, that's pretty terrible. Is there any way we can improve that?\n",
    "\n",
    "First, let's ask ourselves what the model might be doing wrong. Let's compare the predictions to the true labels."
   ]
  },
  {
   "cell_type": "code",
   "execution_count": 47,
   "id": "56b67e18",
   "metadata": {},
   "outputs": [
    {
     "data": {
      "text/html": [
       "<div>\n",
       "<style scoped>\n",
       "    .dataframe tbody tr th:only-of-type {\n",
       "        vertical-align: middle;\n",
       "    }\n",
       "\n",
       "    .dataframe tbody tr th {\n",
       "        vertical-align: top;\n",
       "    }\n",
       "\n",
       "    .dataframe thead th {\n",
       "        text-align: right;\n",
       "    }\n",
       "</style>\n",
       "<table border=\"1\" class=\"dataframe\">\n",
       "  <thead>\n",
       "    <tr style=\"text-align: right;\">\n",
       "      <th></th>\n",
       "      <th>group</th>\n",
       "      <th>0</th>\n",
       "    </tr>\n",
       "    <tr>\n",
       "      <th>sample</th>\n",
       "      <th></th>\n",
       "      <th></th>\n",
       "    </tr>\n",
       "  </thead>\n",
       "  <tbody>\n",
       "    <tr>\n",
       "      <th>N_5_06_1</th>\n",
       "      <td>0</td>\n",
       "      <td>1</td>\n",
       "    </tr>\n",
       "    <tr>\n",
       "      <th>N_3_03_1</th>\n",
       "      <td>0</td>\n",
       "      <td>1</td>\n",
       "    </tr>\n",
       "    <tr>\n",
       "      <th>AD_5_12_1</th>\n",
       "      <td>1</td>\n",
       "      <td>1</td>\n",
       "    </tr>\n",
       "    <tr>\n",
       "      <th>AD_8_03_1</th>\n",
       "      <td>1</td>\n",
       "      <td>1</td>\n",
       "    </tr>\n",
       "    <tr>\n",
       "      <th>AD_1_13_1</th>\n",
       "      <td>1</td>\n",
       "      <td>1</td>\n",
       "    </tr>\n",
       "    <tr>\n",
       "      <th>N_4_06_1</th>\n",
       "      <td>0</td>\n",
       "      <td>1</td>\n",
       "    </tr>\n",
       "    <tr>\n",
       "      <th>N_7_07_1</th>\n",
       "      <td>0</td>\n",
       "      <td>1</td>\n",
       "    </tr>\n",
       "    <tr>\n",
       "      <th>N_7_01_1</th>\n",
       "      <td>0</td>\n",
       "      <td>1</td>\n",
       "    </tr>\n",
       "    <tr>\n",
       "      <th>AD_5_13_1</th>\n",
       "      <td>1</td>\n",
       "      <td>1</td>\n",
       "    </tr>\n",
       "    <tr>\n",
       "      <th>AD_13_06_1</th>\n",
       "      <td>1</td>\n",
       "      <td>1</td>\n",
       "    </tr>\n",
       "    <tr>\n",
       "      <th>AD_11_10_1</th>\n",
       "      <td>1</td>\n",
       "      <td>1</td>\n",
       "    </tr>\n",
       "    <tr>\n",
       "      <th>AD_14_07_1</th>\n",
       "      <td>1</td>\n",
       "      <td>1</td>\n",
       "    </tr>\n",
       "    <tr>\n",
       "      <th>C_10_10_1</th>\n",
       "      <td>1</td>\n",
       "      <td>1</td>\n",
       "    </tr>\n",
       "    <tr>\n",
       "      <th>N_6_03_1</th>\n",
       "      <td>0</td>\n",
       "      <td>1</td>\n",
       "    </tr>\n",
       "    <tr>\n",
       "      <th>N_3_06_1</th>\n",
       "      <td>0</td>\n",
       "      <td>1</td>\n",
       "    </tr>\n",
       "    <tr>\n",
       "      <th>N_3_01_1</th>\n",
       "      <td>0</td>\n",
       "      <td>1</td>\n",
       "    </tr>\n",
       "    <tr>\n",
       "      <th>AD_1_08_1</th>\n",
       "      <td>1</td>\n",
       "      <td>1</td>\n",
       "    </tr>\n",
       "    <tr>\n",
       "      <th>N_4_01_1</th>\n",
       "      <td>0</td>\n",
       "      <td>1</td>\n",
       "    </tr>\n",
       "    <tr>\n",
       "      <th>N_7_04_1</th>\n",
       "      <td>0</td>\n",
       "      <td>1</td>\n",
       "    </tr>\n",
       "    <tr>\n",
       "      <th>N_4_02_1</th>\n",
       "      <td>0</td>\n",
       "      <td>1</td>\n",
       "    </tr>\n",
       "    <tr>\n",
       "      <th>AD_12_02_1</th>\n",
       "      <td>1</td>\n",
       "      <td>1</td>\n",
       "    </tr>\n",
       "    <tr>\n",
       "      <th>AD_15_06_1</th>\n",
       "      <td>1</td>\n",
       "      <td>1</td>\n",
       "    </tr>\n",
       "    <tr>\n",
       "      <th>N_4_04_1</th>\n",
       "      <td>0</td>\n",
       "      <td>1</td>\n",
       "    </tr>\n",
       "    <tr>\n",
       "      <th>AD_8_12_1</th>\n",
       "      <td>1</td>\n",
       "      <td>1</td>\n",
       "    </tr>\n",
       "    <tr>\n",
       "      <th>N_1_07_1</th>\n",
       "      <td>0</td>\n",
       "      <td>1</td>\n",
       "    </tr>\n",
       "    <tr>\n",
       "      <th>AD_15_03_1</th>\n",
       "      <td>1</td>\n",
       "      <td>0</td>\n",
       "    </tr>\n",
       "  </tbody>\n",
       "</table>\n",
       "</div>"
      ],
      "text/plain": [
       "            group  0\n",
       "sample              \n",
       "N_5_06_1        0  1\n",
       "N_3_03_1        0  1\n",
       "AD_5_12_1       1  1\n",
       "AD_8_03_1       1  1\n",
       "AD_1_13_1       1  1\n",
       "N_4_06_1        0  1\n",
       "N_7_07_1        0  1\n",
       "N_7_01_1        0  1\n",
       "AD_5_13_1       1  1\n",
       "AD_13_06_1      1  1\n",
       "AD_11_10_1      1  1\n",
       "AD_14_07_1      1  1\n",
       "C_10_10_1       1  1\n",
       "N_6_03_1        0  1\n",
       "N_3_06_1        0  1\n",
       "N_3_01_1        0  1\n",
       "AD_1_08_1       1  1\n",
       "N_4_01_1        0  1\n",
       "N_7_04_1        0  1\n",
       "N_4_02_1        0  1\n",
       "AD_12_02_1      1  1\n",
       "AD_15_06_1      1  1\n",
       "N_4_04_1        0  1\n",
       "AD_8_12_1       1  1\n",
       "N_1_07_1        0  1\n",
       "AD_15_03_1      1  0"
      ]
     },
     "execution_count": 47,
     "metadata": {},
     "output_type": "execute_result"
    }
   ],
   "source": [
    "pd.concat((data.y_test, pd.Series(y_pred, index=data.y_test.index)), axis=1)"
   ]
  },
  {
   "cell_type": "markdown",
   "id": "1a545d9a",
   "metadata": {},
   "source": [
    "So it looks like the SVM is just outputting a bunch of 1s."
   ]
  },
  {
   "cell_type": "code",
   "execution_count": 48,
   "id": "07979f9b",
   "metadata": {},
   "outputs": [
    {
     "data": {
      "text/plain": [
       "array([ 0.36066959,  0.34440259,  0.32471978,  0.32438188,  0.41515045,\n",
       "        0.2849067 ,  0.31970338,  0.34958158,  0.34068328,  0.15982083,\n",
       "        0.07603962,  0.2017197 ,  0.26845164,  0.36847692,  0.32494291,\n",
       "        0.32461163,  0.3242732 ,  0.3301183 ,  0.31545166,  0.37824334,\n",
       "        0.32614946,  0.32234397,  0.25262916,  0.3242238 ,  0.09196254,\n",
       "       -0.01971142])"
      ]
     },
     "execution_count": 48,
     "metadata": {},
     "output_type": "execute_result"
    }
   ],
   "source": [
    "clf.decision_function(data.X_test)"
   ]
  },
  {
   "cell_type": "code",
   "execution_count": 49,
   "id": "07de1cd3",
   "metadata": {},
   "outputs": [],
   "source": [
    "from sklearn.decomposition import PCA"
   ]
  },
  {
   "cell_type": "code",
   "execution_count": 50,
   "id": "f22df9aa",
   "metadata": {},
   "outputs": [
    {
     "data": {
      "text/plain": [
       "<AxesSubplot:xlabel='0', ylabel='1'>"
      ]
     },
     "execution_count": 50,
     "metadata": {},
     "output_type": "execute_result"
    },
    {
     "data": {
      "image/png": "[encoded data removed]",
      "text/plain": [
       "<Figure size 432x288 with 1 Axes>"
      ]
     },
     "metadata": {
      "needs_background": "light"
     },
     "output_type": "display_data"
    }
   ],
   "source": [
    "pca = PCA(n_components=2)\n",
    "X_new = pca.fit_transform(data.data.loc[:,data.data.columns != 'group'])\n",
    "pd.DataFrame(X_new).plot.scatter(x=0, y=1, color=['blue' if x else 'red' for x in data.data.group])"
   ]
  },
  {
   "cell_type": "code",
   "execution_count": 51,
   "id": "6da6e519",
   "metadata": {},
   "outputs": [
    {
     "data": {
      "text/plain": [
       "array([0.69230769, 0.69230769, 0.53846154, 0.69230769, 0.69230769,\n",
       "       0.46153846, 0.66666667, 0.66666667, 0.66666667, 0.66666667])"
      ]
     },
     "execution_count": 51,
     "metadata": {},
     "output_type": "execute_result"
    }
   ],
   "source": [
    "X = data.data.loc[:,data.data.columns != 'group']\n",
    "y = data.data['group']\n",
    "from sklearn.model_selection import cross_val_score\n",
    "sklearn.model_selection.cross_val_score(clf, X, y, cv=10)"
   ]
  },
  {
   "cell_type": "code",
   "execution_count": 52,
   "id": "873cfe82",
   "metadata": {},
   "outputs": [
    {
     "data": {
      "text/plain": [
       "sample\n",
       "AD_8_12_1     1\n",
       "C_10_14_1     1\n",
       "C_10_08_1     1\n",
       "AD_11_08_1    1\n",
       "AD_11_10_1    1\n",
       "             ..\n",
       "AD_2_01_1     1\n",
       "AD_2_02_1     1\n",
       "AD_2_03_1     1\n",
       "AD_2_05_1     1\n",
       "AD_2_07_1     1\n",
       "Name: group, Length: 126, dtype: int64"
      ]
     },
     "execution_count": 52,
     "metadata": {},
     "output_type": "execute_result"
    }
   ],
   "source": [
    "data.y"
   ]
  },
  {
   "cell_type": "code",
   "execution_count": 53,
   "id": "ef45a343",
   "metadata": {},
   "outputs": [],
   "source": [
    "X, y, X_train, y_train, X_test, y_test = data.X, data.y, data.X_train, data.y_train, data.X_test, data.y_test"
   ]
  },
  {
   "cell_type": "code",
   "execution_count": 3,
   "id": "3a12e3b2",
   "metadata": {},
   "outputs": [
    {
     "name": "stdout",
     "output_type": "stream",
     "text": [
      "# Tuning hyper-parameters for f1\n",
      "\n",
      "Best parameters set found on development set:\n",
      "\n",
      "{'C': 1, 'kernel': 'linear'}\n",
      "\n",
      "Grid scores on development set:\n",
      "\n",
      "0.588 (+/-0.145) for {'C': 1, 'degree': 5, 'gamma': 1e-07, 'kernel': 'poly'}\n",
      "0.588 (+/-0.145) for {'C': 1, 'degree': 5, 'gamma': 1e-08, 'kernel': 'poly'}\n",
      "0.455 (+/-0.117) for {'C': 1, 'degree': 5, 'gamma': 1e-10, 'kernel': 'poly'}\n",
      "0.579 (+/-0.117) for {'C': 1, 'degree': 6, 'gamma': 1e-07, 'kernel': 'poly'}\n",
      "0.579 (+/-0.117) for {'C': 1, 'degree': 6, 'gamma': 1e-08, 'kernel': 'poly'}\n",
      "0.488 (+/-0.024) for {'C': 1, 'degree': 6, 'gamma': 1e-10, 'kernel': 'poly'}\n",
      "0.579 (+/-0.117) for {'C': 1, 'degree': 7, 'gamma': 1e-07, 'kernel': 'poly'}\n",
      "0.579 (+/-0.117) for {'C': 1, 'degree': 7, 'gamma': 1e-08, 'kernel': 'poly'}\n",
      "0.484 (+/-0.148) for {'C': 1, 'degree': 7, 'gamma': 1e-10, 'kernel': 'poly'}\n",
      "0.579 (+/-0.117) for {'C': 1, 'degree': 8, 'gamma': 1e-07, 'kernel': 'poly'}\n",
      "0.579 (+/-0.117) for {'C': 1, 'degree': 8, 'gamma': 1e-08, 'kernel': 'poly'}\n",
      "0.452 (+/-0.171) for {'C': 1, 'degree': 8, 'gamma': 1e-10, 'kernel': 'poly'}\n",
      "0.579 (+/-0.117) for {'C': 1, 'degree': 9, 'gamma': 1e-07, 'kernel': 'poly'}\n",
      "0.579 (+/-0.117) for {'C': 1, 'degree': 9, 'gamma': 1e-08, 'kernel': 'poly'}\n",
      "0.476 (+/-0.232) for {'C': 1, 'degree': 9, 'gamma': 1e-10, 'kernel': 'poly'}\n",
      "0.588 (+/-0.145) for {'C': 1e-06, 'degree': 5, 'gamma': 1e-07, 'kernel': 'poly'}\n",
      "0.562 (+/-0.217) for {'C': 1e-06, 'degree': 5, 'gamma': 1e-08, 'kernel': 'poly'}\n",
      "0.419 (+/-0.000) for {'C': 1e-06, 'degree': 5, 'gamma': 1e-10, 'kernel': 'poly'}\n",
      "0.579 (+/-0.117) for {'C': 1e-06, 'degree': 6, 'gamma': 1e-07, 'kernel': 'poly'}\n",
      "0.555 (+/-0.046) for {'C': 1e-06, 'degree': 6, 'gamma': 1e-08, 'kernel': 'poly'}\n",
      "0.419 (+/-0.000) for {'C': 1e-06, 'degree': 6, 'gamma': 1e-10, 'kernel': 'poly'}\n",
      "0.579 (+/-0.117) for {'C': 1e-06, 'degree': 7, 'gamma': 1e-07, 'kernel': 'poly'}\n",
      "0.579 (+/-0.117) for {'C': 1e-06, 'degree': 7, 'gamma': 1e-08, 'kernel': 'poly'}\n",
      "0.419 (+/-0.000) for {'C': 1e-06, 'degree': 7, 'gamma': 1e-10, 'kernel': 'poly'}\n",
      "0.579 (+/-0.117) for {'C': 1e-06, 'degree': 8, 'gamma': 1e-07, 'kernel': 'poly'}\n",
      "0.579 (+/-0.117) for {'C': 1e-06, 'degree': 8, 'gamma': 1e-08, 'kernel': 'poly'}\n",
      "0.419 (+/-0.000) for {'C': 1e-06, 'degree': 8, 'gamma': 1e-10, 'kernel': 'poly'}\n",
      "0.579 (+/-0.117) for {'C': 1e-06, 'degree': 9, 'gamma': 1e-07, 'kernel': 'poly'}\n",
      "0.579 (+/-0.117) for {'C': 1e-06, 'degree': 9, 'gamma': 1e-08, 'kernel': 'poly'}\n",
      "0.415 (+/-0.012) for {'C': 1e-06, 'degree': 9, 'gamma': 1e-10, 'kernel': 'poly'}\n",
      "0.419 (+/-0.000) for {'C': 1, 'gamma': 0.001, 'kernel': 'rbf'}\n",
      "0.636 (+/-0.115) for {'C': 1, 'kernel': 'linear'}\n",
      "\n",
      "Detailed classification report:\n",
      "\n",
      "The model is trained on the full development set.\n",
      "The scores are computed on the full evaluation set.\n",
      "\n",
      "              precision    recall  f1-score   support\n",
      "\n",
      "           0       0.67      0.46      0.55        13\n",
      "           1       0.59      0.77      0.67        13\n",
      "\n",
      "    accuracy                           0.62        26\n",
      "   macro avg       0.63      0.62      0.61        26\n",
      "weighted avg       0.63      0.62      0.61        26\n",
      "\n",
      "\n"
     ]
    },
    {
     "data": {
      "text/plain": [
       "GridSearchCV(cv=4, estimator=SVC(),\n",
       "             param_grid=[{'C': [1, 1e-06], 'degree': [5, 6, 7, 8, 9],\n",
       "                          'gamma': [1e-07, 1e-08, 1e-10], 'kernel': ['poly']},\n",
       "                         {'C': [1], 'gamma': [0.001], 'kernel': ['rbf']},\n",
       "                         {'C': [1], 'kernel': ['linear']}],\n",
       "             scoring='f1_macro')"
      ]
     },
     "execution_count": 3,
     "metadata": {},
     "output_type": "execute_result"
    }
   ],
   "source": [
    "import scripts.grid_search\n",
    "\n",
    "model = sklearn.svm.SVC()\n",
    "tuned_parameters = [{'kernel': ['poly'], 'gamma': [1e-7, 1e-8, 1e-10], 'C': [1, 0.000001], 'degree':[5, 6, 7, 8, 9]},\n",
    "                    {'kernel': ['rbf'], 'gamma': [1e-3], 'C': [1]},\n",
    "                    {'kernel': ['linear'], 'C': [1]}]\n",
    "\n",
    "scripts.grid_search.main(\n",
    "    (data.X_train, data.y_train, data.X_test, data.y_test), SVC(), tuned_parameters\n",
    ")"
   ]
  },
  {
   "cell_type": "code",
   "execution_count": null,
   "id": "9759c535",
   "metadata": {},
   "outputs": [],
   "source": []
  }
 ],
 "metadata": {
  "kernelspec": {
   "display_name": "Python [conda env:BloodBrainClassifier]",
   "language": "python",
   "name": "conda-env-BloodBrainClassifier-py"
  },
  "language_info": {
   "codemirror_mode": {
    "name": "ipython",
    "version": 3
   },
   "file_extension": ".py",
   "mimetype": "text/x-python",
   "name": "python",
   "nbconvert_exporter": "python",
   "pygments_lexer": "ipython3",
   "version": "3.9.4"
  }
 },
 "nbformat": 4,
 "nbformat_minor": 5
}
