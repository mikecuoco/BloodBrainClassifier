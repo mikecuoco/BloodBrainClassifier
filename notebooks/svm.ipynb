{
 "cells": [
  {
   "cell_type": "markdown",
   "id": "588b927b",
   "metadata": {},
   "source": [
    "# Train and test an SVM"
   ]
  },
  {
   "cell_type": "markdown",
   "id": "d6b8f59d",
   "metadata": {},
   "source": [
    "## Import boilerplate and setup"
   ]
  },
  {
   "cell_type": "code",
   "execution_count": 1,
   "id": "ec53f9fb",
   "metadata": {},
   "outputs": [
    {
     "data": {
      "text/plain": [
       "'/mnt/c/Users/aryam/Documents/school/2020/spring/cse283/BloodBrainClassifier'"
      ]
     },
     "execution_count": 1,
     "metadata": {},
     "output_type": "execute_result"
    }
   ],
   "source": [
    "# first, change the working directory, if needed\n",
    "import os\n",
    "if os.getcwd().endswith('notebooks'):\n",
    "    os.chdir('..')\n",
    "os.getcwd()"
   ]
  },
  {
   "cell_type": "code",
   "execution_count": 2,
   "id": "97ef1ab8",
   "metadata": {},
   "outputs": [],
   "source": [
    "# now, import whatever else we need\n",
    "from sklearn.svm import SVC\n",
    "import scripts.starter as data\n",
    "from sklearn.metrics import accuracy_score"
   ]
  },
  {
   "cell_type": "markdown",
   "id": "6047fb36",
   "metadata": {},
   "source": [
    "## Train SVC model"
   ]
  },
  {
   "cell_type": "code",
   "execution_count": 3,
   "id": "32747ecb",
   "metadata": {},
   "outputs": [
    {
     "data": {
      "text/plain": [
       "SVC()"
      ]
     },
     "execution_count": 3,
     "metadata": {},
     "output_type": "execute_result"
    }
   ],
   "source": [
    "clf = SVC()\n",
    "clf.fit(data.X_train, data.y_train)"
   ]
  },
  {
   "cell_type": "markdown",
   "id": "23cb5f7d",
   "metadata": {},
   "source": [
    "## Test SVC model"
   ]
  },
  {
   "cell_type": "code",
   "execution_count": 4,
   "id": "84df6fc0",
   "metadata": {},
   "outputs": [],
   "source": [
    "y_pred = clf.predict(data.X_test)"
   ]
  },
  {
   "cell_type": "markdown",
   "id": "c2a1f785",
   "metadata": {},
   "source": [
    "## Evaluate the model's performance"
   ]
  },
  {
   "cell_type": "code",
   "execution_count": 5,
   "id": "f620c91a",
   "metadata": {},
   "outputs": [
    {
     "data": {
      "text/plain": [
       "0.6052631578947368"
      ]
     },
     "execution_count": 5,
     "metadata": {},
     "output_type": "execute_result"
    }
   ],
   "source": [
    "accuracy_score(data.y_test, y_pred)"
   ]
  },
  {
   "cell_type": "code",
   "execution_count": null,
   "id": "b35fafcd",
   "metadata": {},
   "outputs": [],
   "source": [
    "# lol, that's pretty terrible\n",
    "# TODO: improve the model"
   ]
  }
 ],
 "metadata": {
  "kernelspec": {
   "display_name": "Python [conda env:BloodBrainClassifier]",
   "language": "python",
   "name": "conda-env-BloodBrainClassifier-py"
  },
  "language_info": {
   "codemirror_mode": {
    "name": "ipython",
    "version": 3
   },
   "file_extension": ".py",
   "mimetype": "text/x-python",
   "name": "python",
   "nbconvert_exporter": "python",
   "pygments_lexer": "ipython3",
   "version": "3.9.4"
  }
 },
 "nbformat": 4,
 "nbformat_minor": 5
}
