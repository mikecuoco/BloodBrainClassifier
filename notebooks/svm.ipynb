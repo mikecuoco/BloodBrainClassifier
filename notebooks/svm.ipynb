{
 "cells": [
  {
   "cell_type": "markdown",
   "id": "0f89bcc5",
   "metadata": {},
   "source": [
    "# Train and test an SVM"
   ]
  },
  {
   "cell_type": "markdown",
   "id": "ecee2714",
   "metadata": {},
   "source": [
    "## Import boilerplate and setup"
   ]
  },
  {
   "cell_type": "code",
   "execution_count": 1,
   "id": "7ae4d6f8",
   "metadata": {},
   "outputs": [
    {
     "data": {
      "text/plain": [
       "'/mnt/c/Users/aryam/Documents/school/2020/spring/cse283/BloodBrainClassifier'"
      ]
     },
     "execution_count": 1,
     "metadata": {},
     "output_type": "execute_result"
    }
   ],
   "source": [
    "# first, change the working directory, if needed\n",
    "import os\n",
    "if os.getcwd().endswith('notebooks'):\n",
    "    os.chdir('..')\n",
    "os.getcwd()"
   ]
  },
  {
   "cell_type": "code",
   "execution_count": 2,
   "id": "f4e8fc20",
   "metadata": {},
   "outputs": [],
   "source": [
    "# now, import whatever else we need\n",
    "import sklearn\n",
    "import pandas as pd\n",
    "from sklearn.svm import SVC\n",
    "import scripts.starter as data\n",
    "from sklearn.pipeline import make_pipeline\n",
    "from sklearn.metrics import accuracy_score\n",
    "from sklearn.preprocessing import StandardScaler"
   ]
  },
  {
   "cell_type": "code",
   "execution_count": 3,
   "id": "820eaa9a",
   "metadata": {},
   "outputs": [
    {
     "name": "stderr",
     "output_type": "stream",
     "text": [
      "converting counts to integer mode\n",
      "estimating size factors\n",
      "estimating dispersions\n",
      "gene-wise dispersion estimates\n",
      "mean-dispersion relationship\n",
      "final dispersion estimates\n",
      "fitting model and testing\n",
      "-- replacing outliers and refitting for 11119 genes\n",
      "-- DESeq argument 'minReplicatesForReplace' = 7 \n",
      "-- original counts are preserved in counts(dds)\n",
      "estimating dispersions\n",
      "fitting model and testing\n"
     ]
    }
   ],
   "source": [
    "%%bash --out selected_genes\n",
    "Rscript scripts/select_DEgenes.R"
   ]
  },
  {
   "cell_type": "code",
   "execution_count": 3,
   "id": "249d89af",
   "metadata": {},
   "outputs": [
    {
     "data": {
      "text/plain": [
       "'ENSG00000223062,ENSG00000273274,ENSG00000264698,ENSG00000207328,ENSG00000231485,ENSG00000278281,ENSG00000238256,ENSG00000222209,ENSG00000169291,ENSG00000272262,ENSG00000118873,ENSG00000223119,ENSG00000163803,ENSG00000238448,ENSG00000281071,ENSG00000196975,ENSG00000075292,ENSG00000132300,ENSG00000201070,ENSG00000206718,ENSG00000260742,ENSG00000281192,ENSG00000118997,ENSG00000238827,ENSG00000252976,ENSG00000201545,ENSG00000238672,ENSG00000207625,ENSG00000222719,ENSG00000181555,ENSG00000281824,ENSG00000277939,ENSG00000264477,ENSG00000276656,ENSG00000266857,ENSG00000273789,ENSG00000280919,ENSG00000264114,ENSG00000272707,ENSG00000281359,ENSG00000252307,ENSG00000199894,ENSG00000250945,ENSG00000250835,ENSG00000201264,ENSG00000109654,ENSG00000252702,ENSG00000273742,ENSG00000275686,ENSG00000222743,ENSG00000238508,ENSG00000280673,ENSG00000274992,ENSG00000212114,ENSG00000247627,ENSG00000222924,ENSG00000199880,ENSG00000124588,ENSG00000201048,ENSG00000111913,ENSG00000212240,ENSG00000263926,ENSG00000252767,ENSG00000212468,ENSG00000200224,ENSG00000212017,ENSG00000265498,ENSG00000276064,ENSG00000281602,ENSG00000238490,ENSG00000223191,ENSG00000222869,ENSG00000211691,ENSG00000202350,ENSG00000200130,ENSG00000238391,ENSG00000207045,ENSG00000221510,ENSG00000252047,ENSG00000199764,ENSG00000199224,ENSG00000281656,ENSG00000252811,ENSG00000251728,ENSG00000251936,ENSG00000275790,ENSG00000252294,ENSG00000216098,ENSG00000206661,ENSG00000253437,ENSG00000252210,ENSG00000252057,ENSG00000277929,ENSG00000254212,ENSG00000200525,ENSG00000201627,ENSG00000221793,ENSG00000276479,ENSG00000253043,ENSG00000276961,ENSG00000107099,ENSG00000200941,ENSG00000251748,ENSG00000200106,ENSG00000107263,ENSG00000251934,ENSG00000207252,ENSG00000052841,ENSG00000149177,ENSG00000275344,ENSG00000280605,ENSG00000222663,ENSG00000200849,ENSG00000199407,ENSG00000221221,ENSG00000252639,ENSG00000207135,ENSG00000252132,ENSG00000280779,ENSG00000253012,ENSG00000201047,ENSG00000278752,ENSG00000276694,ENSG00000271508,ENSG00000264906,ENSG00000275770,ENSG00000274124,ENSG00000257570,ENSG00000207381,ENSG00000258173,ENSG00000252823,ENSG00000258224,ENSG00000207365,ENSG00000265861,ENSG00000200483,ENSG00000165474,ENSG00000252247,ENSG00000216014,ENSG00000230243,ENSG00000274190,ENSG00000222733,ENSG00000206854,ENSG00000206800,ENSG00000251753,ENSG00000201847,ENSG00000211827,ENSG00000211837,ENSG00000211864,ENSG00000253059,ENSG00000258966,ENSG00000100767,ENSG00000252013,ENSG00000201097,ENSG00000187621,ENSG00000199390,ENSG00000201500,ENSG00000202293,ENSG00000207208,ENSG00000207568,ENSG00000225825,ENSG00000254045,ENSG00000252326,ENSG00000200120,ENSG00000199784,ENSG00000200873,ENSG00000221309,ENSG00000200677,ENSG00000103275,ENSG00000207248,ENSG00000260688,ENSG00000260067,ENSG00000200437,ENSG00000252383,ENSG00000266416,ENSG00000274054,ENSG00000264314,ENSG00000265218,ENSG00000222548,ENSG00000266988,ENSG00000267327,ENSG00000252097,ENSG00000252096,ENSG00000201363,ENSG00000238452,ENSG00000263903,ENSG00000266104,ENSG00000238364,ENSG00000265879,ENSG00000252177,ENSG00000105499,ENSG00000161671,ENSG00000207734,ENSG00000207803,ENSG00000278335,ENSG00000254240'"
      ]
     },
     "execution_count": 3,
     "metadata": {},
     "output_type": "execute_result"
    }
   ],
   "source": [
    "# selected_genes = 'ENSG00000223062,ENSG00000273274,ENSG00000264698,ENSG00000207328,ENSG00000231485,ENSG00000278281,ENSG00000238256,ENSG00000222209,ENSG00000169291,ENSG00000272262,ENSG00000118873,ENSG00000223119,ENSG00000163803,ENSG00000238448,ENSG00000281071,ENSG00000196975,ENSG00000075292,ENSG00000132300,ENSG00000201070,ENSG00000206718,ENSG00000260742,ENSG00000281192,ENSG00000118997,ENSG00000238827,ENSG00000252976,ENSG00000201545,ENSG00000238672,ENSG00000207625,ENSG00000222719,ENSG00000181555,ENSG00000281824,ENSG00000277939,ENSG00000264477,ENSG00000276656,ENSG00000266857,ENSG00000273789,ENSG00000280919,ENSG00000264114,ENSG00000272707,ENSG00000281359,ENSG00000252307,ENSG00000199894,ENSG00000250945,ENSG00000250835,ENSG00000201264,ENSG00000109654,ENSG00000252702,ENSG00000273742,ENSG00000275686,ENSG00000222743,ENSG00000238508,ENSG00000280673,ENSG00000274992,ENSG00000212114,ENSG00000247627,ENSG00000222924,ENSG00000199880,ENSG00000124588,ENSG00000201048,ENSG00000111913,ENSG00000212240,ENSG00000263926,ENSG00000252767,ENSG00000212468,ENSG00000200224,ENSG00000212017,ENSG00000265498,ENSG00000276064,ENSG00000281602,ENSG00000238490,ENSG00000223191,ENSG00000222869,ENSG00000211691,ENSG00000202350,ENSG00000200130,ENSG00000238391,ENSG00000207045,ENSG00000221510,ENSG00000252047,ENSG00000199764,ENSG00000199224,ENSG00000281656,ENSG00000252811,ENSG00000251728,ENSG00000251936,ENSG00000275790,ENSG00000252294,ENSG00000216098,ENSG00000206661,ENSG00000253437,ENSG00000252210,ENSG00000252057,ENSG00000277929,ENSG00000254212,ENSG00000200525,ENSG00000201627,ENSG00000221793,ENSG00000276479,ENSG00000253043,ENSG00000276961,ENSG00000107099,ENSG00000200941,ENSG00000251748,ENSG00000200106,ENSG00000107263,ENSG00000251934,ENSG00000207252,ENSG00000052841,ENSG00000149177,ENSG00000275344,ENSG00000280605,ENSG00000222663,ENSG00000200849,ENSG00000199407,ENSG00000221221,ENSG00000252639,ENSG00000207135,ENSG00000252132,ENSG00000280779,ENSG00000253012,ENSG00000201047,ENSG00000278752,ENSG00000276694,ENSG00000271508,ENSG00000264906,ENSG00000275770,ENSG00000274124,ENSG00000257570,ENSG00000207381,ENSG00000258173,ENSG00000252823,ENSG00000258224,ENSG00000207365,ENSG00000265861,ENSG00000200483,ENSG00000165474,ENSG00000252247,ENSG00000216014,ENSG00000230243,ENSG00000274190,ENSG00000222733,ENSG00000206854,ENSG00000206800,ENSG00000251753,ENSG00000201847,ENSG00000211827,ENSG00000211837,ENSG00000211864,ENSG00000253059,ENSG00000258966,ENSG00000100767,ENSG00000252013,ENSG00000201097,ENSG00000187621,ENSG00000199390,ENSG00000201500,ENSG00000202293,ENSG00000207208,ENSG00000207568,ENSG00000225825,ENSG00000254045,ENSG00000252326,ENSG00000200120,ENSG00000199784,ENSG00000200873,ENSG00000221309,ENSG00000200677,ENSG00000103275,ENSG00000207248,ENSG00000260688,ENSG00000260067,ENSG00000200437,ENSG00000252383,ENSG00000266416,ENSG00000274054,ENSG00000264314,ENSG00000265218,ENSG00000222548,ENSG00000266988,ENSG00000267327,ENSG00000252097,ENSG00000252096,ENSG00000201363,ENSG00000238452,ENSG00000263903,ENSG00000266104,ENSG00000238364,ENSG00000265879,ENSG00000252177,ENSG00000105499,ENSG00000161671,ENSG00000207734,ENSG00000207803,ENSG00000278335,ENSG00000254240'\n",
    "selected_genes"
   ]
  },
  {
   "cell_type": "code",
   "execution_count": 4,
   "id": "c6f15c30",
   "metadata": {},
   "outputs": [
    {
     "data": {
      "text/plain": [
       "196"
      ]
     },
     "execution_count": 4,
     "metadata": {},
     "output_type": "execute_result"
    }
   ],
   "source": [
    "data.data = data.data[selected_genes.split(',') + ['group']]\n",
    "data.split()\n",
    "len(data.data.columns)"
   ]
  },
  {
   "cell_type": "markdown",
   "id": "2ff9a063",
   "metadata": {},
   "source": [
    "## Train SVC model"
   ]
  },
  {
   "cell_type": "code",
   "execution_count": 18,
   "id": "2af72ebe",
   "metadata": {},
   "outputs": [
    {
     "data": {
      "text/plain": [
       "Pipeline(steps=[('standardscaler', StandardScaler()),\n",
       "                ('svc', SVC(C=0.01, kernel='linear'))])"
      ]
     },
     "execution_count": 18,
     "metadata": {},
     "output_type": "execute_result"
    }
   ],
   "source": [
    "clf = make_pipeline(StandardScaler(), SVC(kernel='linear', C=.01))\n",
    "clf.fit(data.X_train, data.y_train)"
   ]
  },
  {
   "cell_type": "markdown",
   "id": "83dff321",
   "metadata": {},
   "source": [
    "## Test SVC model and evaluate the model's performance"
   ]
  },
  {
   "cell_type": "code",
   "execution_count": 19,
   "id": "273fcd54",
   "metadata": {},
   "outputs": [],
   "source": [
    "y_pred = clf.predict(data.X_test)"
   ]
  },
  {
   "cell_type": "code",
   "execution_count": 20,
   "id": "7cb755be",
   "metadata": {},
   "outputs": [
    {
     "data": {
      "text/plain": [
       "0.625"
      ]
     },
     "execution_count": 20,
     "metadata": {},
     "output_type": "execute_result"
    }
   ],
   "source": [
    "clf.score(data.X_test, data.y_test)"
   ]
  },
  {
   "cell_type": "markdown",
   "id": "b94b3485",
   "metadata": {},
   "source": [
    "Wow, that's pretty terrible. Is there any way we can improve that?\n",
    "\n",
    "First, let's ask ourselves what the model might be doing wrong. Let's compare the predictions to the true labels."
   ]
  },
  {
   "cell_type": "code",
   "execution_count": 21,
   "id": "0bee38d0",
   "metadata": {},
   "outputs": [
    {
     "data": {
      "text/html": [
       "<div>\n",
       "<style scoped>\n",
       "    .dataframe tbody tr th:only-of-type {\n",
       "        vertical-align: middle;\n",
       "    }\n",
       "\n",
       "    .dataframe tbody tr th {\n",
       "        vertical-align: top;\n",
       "    }\n",
       "\n",
       "    .dataframe thead th {\n",
       "        text-align: right;\n",
       "    }\n",
       "</style>\n",
       "<table border=\"1\" class=\"dataframe\">\n",
       "  <thead>\n",
       "    <tr style=\"text-align: right;\">\n",
       "      <th></th>\n",
       "      <th>group</th>\n",
       "      <th>0</th>\n",
       "    </tr>\n",
       "    <tr>\n",
       "      <th>sample</th>\n",
       "      <th></th>\n",
       "      <th></th>\n",
       "    </tr>\n",
       "  </thead>\n",
       "  <tbody>\n",
       "    <tr>\n",
       "      <th>N_5_06_1</th>\n",
       "      <td>0</td>\n",
       "      <td>1</td>\n",
       "    </tr>\n",
       "    <tr>\n",
       "      <th>N_3_03_1</th>\n",
       "      <td>0</td>\n",
       "      <td>1</td>\n",
       "    </tr>\n",
       "    <tr>\n",
       "      <th>AD_5_12_1</th>\n",
       "      <td>1</td>\n",
       "      <td>1</td>\n",
       "    </tr>\n",
       "    <tr>\n",
       "      <th>AD_8_03_1</th>\n",
       "      <td>1</td>\n",
       "      <td>1</td>\n",
       "    </tr>\n",
       "    <tr>\n",
       "      <th>AD_1_13_1</th>\n",
       "      <td>1</td>\n",
       "      <td>1</td>\n",
       "    </tr>\n",
       "    <tr>\n",
       "      <th>N_4_06_1</th>\n",
       "      <td>0</td>\n",
       "      <td>0</td>\n",
       "    </tr>\n",
       "    <tr>\n",
       "      <th>N_7_07_1</th>\n",
       "      <td>0</td>\n",
       "      <td>1</td>\n",
       "    </tr>\n",
       "    <tr>\n",
       "      <th>N_7_01_1</th>\n",
       "      <td>0</td>\n",
       "      <td>1</td>\n",
       "    </tr>\n",
       "    <tr>\n",
       "      <th>AD_5_13_1</th>\n",
       "      <td>1</td>\n",
       "      <td>1</td>\n",
       "    </tr>\n",
       "    <tr>\n",
       "      <th>AD_13_06_1</th>\n",
       "      <td>1</td>\n",
       "      <td>1</td>\n",
       "    </tr>\n",
       "    <tr>\n",
       "      <th>AD_11_10_1</th>\n",
       "      <td>1</td>\n",
       "      <td>0</td>\n",
       "    </tr>\n",
       "    <tr>\n",
       "      <th>AD_14_07_1</th>\n",
       "      <td>1</td>\n",
       "      <td>1</td>\n",
       "    </tr>\n",
       "    <tr>\n",
       "      <th>C_10_10_1</th>\n",
       "      <td>1</td>\n",
       "      <td>0</td>\n",
       "    </tr>\n",
       "    <tr>\n",
       "      <th>N_6_03_1</th>\n",
       "      <td>0</td>\n",
       "      <td>1</td>\n",
       "    </tr>\n",
       "    <tr>\n",
       "      <th>N_3_06_1</th>\n",
       "      <td>0</td>\n",
       "      <td>0</td>\n",
       "    </tr>\n",
       "    <tr>\n",
       "      <th>N_3_01_1</th>\n",
       "      <td>0</td>\n",
       "      <td>0</td>\n",
       "    </tr>\n",
       "    <tr>\n",
       "      <th>AD_1_08_1</th>\n",
       "      <td>1</td>\n",
       "      <td>1</td>\n",
       "    </tr>\n",
       "    <tr>\n",
       "      <th>N_4_01_1</th>\n",
       "      <td>0</td>\n",
       "      <td>1</td>\n",
       "    </tr>\n",
       "    <tr>\n",
       "      <th>N_7_04_1</th>\n",
       "      <td>0</td>\n",
       "      <td>0</td>\n",
       "    </tr>\n",
       "    <tr>\n",
       "      <th>N_4_02_1</th>\n",
       "      <td>0</td>\n",
       "      <td>1</td>\n",
       "    </tr>\n",
       "    <tr>\n",
       "      <th>AD_12_02_1</th>\n",
       "      <td>1</td>\n",
       "      <td>1</td>\n",
       "    </tr>\n",
       "    <tr>\n",
       "      <th>AD_15_06_1</th>\n",
       "      <td>1</td>\n",
       "      <td>1</td>\n",
       "    </tr>\n",
       "    <tr>\n",
       "      <th>N_4_04_1</th>\n",
       "      <td>0</td>\n",
       "      <td>0</td>\n",
       "    </tr>\n",
       "    <tr>\n",
       "      <th>AD_8_12_1</th>\n",
       "      <td>1</td>\n",
       "      <td>1</td>\n",
       "    </tr>\n",
       "    <tr>\n",
       "      <th>N_1_07_1</th>\n",
       "      <td>0</td>\n",
       "      <td>1</td>\n",
       "    </tr>\n",
       "    <tr>\n",
       "      <th>AD_15_03_1</th>\n",
       "      <td>1</td>\n",
       "      <td>1</td>\n",
       "    </tr>\n",
       "    <tr>\n",
       "      <th>AD_8_05_1</th>\n",
       "      <td>1</td>\n",
       "      <td>1</td>\n",
       "    </tr>\n",
       "    <tr>\n",
       "      <th>C_9_10_1</th>\n",
       "      <td>1</td>\n",
       "      <td>1</td>\n",
       "    </tr>\n",
       "    <tr>\n",
       "      <th>N_2_00_1</th>\n",
       "      <td>0</td>\n",
       "      <td>1</td>\n",
       "    </tr>\n",
       "    <tr>\n",
       "      <th>AD_2_05_1</th>\n",
       "      <td>1</td>\n",
       "      <td>1</td>\n",
       "    </tr>\n",
       "    <tr>\n",
       "      <th>C_6_13_1</th>\n",
       "      <td>1</td>\n",
       "      <td>1</td>\n",
       "    </tr>\n",
       "    <tr>\n",
       "      <th>N_9_03_1</th>\n",
       "      <td>0</td>\n",
       "      <td>1</td>\n",
       "    </tr>\n",
       "  </tbody>\n",
       "</table>\n",
       "</div>"
      ],
      "text/plain": [
       "            group  0\n",
       "sample              \n",
       "N_5_06_1        0  1\n",
       "N_3_03_1        0  1\n",
       "AD_5_12_1       1  1\n",
       "AD_8_03_1       1  1\n",
       "AD_1_13_1       1  1\n",
       "N_4_06_1        0  0\n",
       "N_7_07_1        0  1\n",
       "N_7_01_1        0  1\n",
       "AD_5_13_1       1  1\n",
       "AD_13_06_1      1  1\n",
       "AD_11_10_1      1  0\n",
       "AD_14_07_1      1  1\n",
       "C_10_10_1       1  0\n",
       "N_6_03_1        0  1\n",
       "N_3_06_1        0  0\n",
       "N_3_01_1        0  0\n",
       "AD_1_08_1       1  1\n",
       "N_4_01_1        0  1\n",
       "N_7_04_1        0  0\n",
       "N_4_02_1        0  1\n",
       "AD_12_02_1      1  1\n",
       "AD_15_06_1      1  1\n",
       "N_4_04_1        0  0\n",
       "AD_8_12_1       1  1\n",
       "N_1_07_1        0  1\n",
       "AD_15_03_1      1  1\n",
       "AD_8_05_1       1  1\n",
       "C_9_10_1        1  1\n",
       "N_2_00_1        0  1\n",
       "AD_2_05_1       1  1\n",
       "C_6_13_1        1  1\n",
       "N_9_03_1        0  1"
      ]
     },
     "execution_count": 21,
     "metadata": {},
     "output_type": "execute_result"
    }
   ],
   "source": [
    "pd.concat((data.y_test, pd.Series(y_pred, index=data.y_test.index)), axis=1)"
   ]
  },
  {
   "cell_type": "code",
   "execution_count": 22,
   "id": "c599d172",
   "metadata": {},
   "outputs": [
    {
     "data": {
      "text/plain": [
       "array([ 0.44907591,  0.15947969,  0.65392261,  0.45445548,  1.08889972,\n",
       "       -0.10176362,  0.09936225,  0.90448826,  0.49613348,  0.70044265,\n",
       "       -0.10612994,  0.26281577, -0.11130883,  0.02214184, -0.34617423,\n",
       "       -0.2531982 ,  0.40958363,  1.37076311, -0.27419032,  0.55822644,\n",
       "        0.3145256 ,  0.75994564, -0.23683945,  0.67268193,  0.0117206 ,\n",
       "        0.1833646 ,  0.20125237,  0.83774116,  0.65928095,  0.62350851,\n",
       "        1.47002543,  0.16059145])"
      ]
     },
     "execution_count": 22,
     "metadata": {},
     "output_type": "execute_result"
    }
   ],
   "source": [
    "clf.decision_function(data.X_test)"
   ]
  },
  {
   "cell_type": "markdown",
   "id": "1da5ead6",
   "metadata": {},
   "source": [
    "## Could there be overfitting?\n",
    "How does our model perform when given all of the data, compared to before?"
   ]
  },
  {
   "cell_type": "code",
   "execution_count": 23,
   "id": "24337176",
   "metadata": {},
   "outputs": [
    {
     "data": {
      "text/plain": [
       "0.96875"
      ]
     },
     "execution_count": 23,
     "metadata": {},
     "output_type": "execute_result"
    }
   ],
   "source": [
    "clf.fit(data.X, data.y)\n",
    "clf.score(data.X_test, data.y_test)"
   ]
  },
  {
   "cell_type": "markdown",
   "id": "282e70ce",
   "metadata": {},
   "source": [
    "Hmmm.. perhaps"
   ]
  },
  {
   "cell_type": "markdown",
   "id": "24b3fd95",
   "metadata": {},
   "source": [
    "## Are the samples separable to begin with?\n",
    "Let's take a look at the first two PCs against each other."
   ]
  },
  {
   "cell_type": "code",
   "execution_count": 24,
   "id": "720bc3ab",
   "metadata": {},
   "outputs": [],
   "source": [
    "from sklearn.decomposition import PCA"
   ]
  },
  {
   "cell_type": "code",
   "execution_count": 26,
   "id": "e181e328",
   "metadata": {},
   "outputs": [
    {
     "data": {
      "text/plain": [
       "<AxesSubplot:xlabel='0', ylabel='1'>"
      ]
     },
     "execution_count": 26,
     "metadata": {},
     "output_type": "execute_result"
    },
    {
     "data": {
      "image/png": "[encoded data removed]",
      "text/plain": [
       "<Figure size 432x288 with 1 Axes>"
      ]
     },
     "metadata": {
      "needs_background": "light"
     },
     "output_type": "display_data"
    }
   ],
   "source": [
    "pca = PCA(n_components=2)\n",
    "X_new = pca.fit_transform(data.X)\n",
    "pd.DataFrame(X_new).plot.scatter(x=0, y=1, color=['blue' if x else 'red' for x in data.data.group])"
   ]
  },
  {
   "cell_type": "code",
   "execution_count": 27,
   "id": "4be5bb2c",
   "metadata": {},
   "outputs": [
    {
     "data": {
      "text/plain": [
       "array([0.92307692, 0.92307692, 0.61538462, 0.92307692, 0.84615385,\n",
       "       0.69230769, 0.83333333, 0.91666667, 0.83333333, 0.91666667])"
      ]
     },
     "execution_count": 27,
     "metadata": {},
     "output_type": "execute_result"
    }
   ],
   "source": [
    "from sklearn.model_selection import cross_val_score\n",
    "clf.fit(data.X_train, data.y_train)\n",
    "sklearn.model_selection.cross_val_score(clf, data.X, data.y, cv=10)"
   ]
  },
  {
   "cell_type": "code",
   "execution_count": 14,
   "id": "1503170d",
   "metadata": {},
   "outputs": [],
   "source": [
    "X, y, X_train, y_train, X_test, y_test = data.X, data.y, data.X_train, data.y_train, data.X_test, data.y_test"
   ]
  },
  {
   "cell_type": "code",
   "execution_count": 32,
   "id": "8d1b133a",
   "metadata": {},
   "outputs": [
    {
     "name": "stdout",
     "output_type": "stream",
     "text": [
      "# Tuning hyper-parameters for f1\n",
      "\n",
      "Best parameters set found on development set:\n",
      "\n",
      "{'C': 2, 'kernel': 'rbf'}\n",
      "\n",
      "Grid scores on development set:\n",
      "\n",
      "0.776 (+/-0.128) for {'C': 0.8, 'kernel': 'rbf'}\n",
      "0.820 (+/-0.031) for {'C': 1, 'kernel': 'rbf'}\n",
      "0.859 (+/-0.077) for {'C': 1.5, 'kernel': 'rbf'}\n",
      "0.872 (+/-0.086) for {'C': 2, 'kernel': 'rbf'}\n",
      "0.779 (+/-0.066) for {'C': 1, 'kernel': 'linear'}\n",
      "0.779 (+/-0.066) for {'C': 0.5, 'kernel': 'linear'}\n",
      "0.779 (+/-0.066) for {'C': 0.1, 'kernel': 'linear'}\n",
      "0.779 (+/-0.066) for {'C': 0.01, 'kernel': 'linear'}\n",
      "\n",
      "Detailed classification report:\n",
      "\n",
      "The model is trained on the full development set.\n",
      "The scores are computed on the full evaluation set.\n",
      "\n",
      "              precision    recall  f1-score   support\n",
      "\n",
      "           0       0.58      0.47      0.52        15\n",
      "           1       0.60      0.71      0.65        17\n",
      "\n",
      "    accuracy                           0.59        32\n",
      "   macro avg       0.59      0.59      0.58        32\n",
      "weighted avg       0.59      0.59      0.59        32\n",
      "\n",
      "\n"
     ]
    },
    {
     "data": {
      "text/plain": [
       "GridSearchCV(cv=4, estimator=SVC(),\n",
       "             param_grid=[{'C': [0.8, 1, 1.5, 2], 'kernel': ['rbf']},\n",
       "                         {'C': [1, 0.5, 0.1, 0.01], 'kernel': ['linear']}],\n",
       "             scoring='f1_macro')"
      ]
     },
     "execution_count": 32,
     "metadata": {},
     "output_type": "execute_result"
    }
   ],
   "source": [
    "import scripts.grid_search\n",
    "\n",
    "model = sklearn.svm.SVC()\n",
    "tuned_parameters = [{'kernel': ['poly'], 'gamma': [1e-7, 1e-8, 1e-10], 'C': [1, 0.000001], 'degree':[5, 6, 7, 8, 9]}]\n",
    "tuned_parameters = [{'kernel': ['rbf'], 'C': [0.8, 1, 1.5, 2]},\n",
    "                    {'kernel': ['linear'], 'C': [1, 0.5, 0.1, 0.01]}]\n",
    "\n",
    "scripts.grid_search.main(\n",
    "    (data.X_train, data.y_train, data.X_test, data.y_test), SVC(), tuned_parameters\n",
    ")"
   ]
  }
 ],
 "metadata": {
  "kernelspec": {
   "display_name": "Python [conda env:BloodBrainClassifier]",
   "language": "python",
   "name": "conda-env-BloodBrainClassifier-py"
  },
  "language_info": {
   "codemirror_mode": {
    "name": "ipython",
    "version": 3
   },
   "file_extension": ".py",
   "mimetype": "text/x-python",
   "name": "python",
   "nbconvert_exporter": "python",
   "pygments_lexer": "ipython3",
   "version": "3.9.4"
  }
 },
 "nbformat": 4,
 "nbformat_minor": 5
}
