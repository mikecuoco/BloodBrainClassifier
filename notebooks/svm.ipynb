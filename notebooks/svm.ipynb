{
 "cells": [
  {
   "cell_type": "markdown",
   "id": "c8ec0dc5",
   "metadata": {},
   "source": [
    "# Train and test an SVM"
   ]
  },
  {
   "cell_type": "markdown",
   "id": "43a5b68d",
   "metadata": {},
   "source": [
    "## Import boilerplate and setup"
   ]
  },
  {
   "cell_type": "code",
   "execution_count": 1,
   "id": "b99505db",
   "metadata": {},
   "outputs": [
    {
     "data": {
      "text/plain": [
       "'/mnt/c/Users/aryam/Documents/school/2020/spring/cse283/BloodBrainClassifier'"
      ]
     },
     "execution_count": 1,
     "metadata": {},
     "output_type": "execute_result"
    }
   ],
   "source": [
    "# first, change the working directory, if needed\n",
    "import os\n",
    "if os.getcwd().endswith('notebooks'):\n",
    "    os.chdir('..')\n",
    "os.getcwd()"
   ]
  },
  {
   "cell_type": "code",
   "execution_count": 2,
   "id": "d9ab1a47",
   "metadata": {},
   "outputs": [],
   "source": [
    "# now, import whatever else we need\n",
    "import sklearn\n",
    "import pandas as pd\n",
    "from sklearn.svm import SVC\n",
    "import scripts.starter as data\n",
    "data.split(test_size=0.2)\n",
    "from sklearn.pipeline import make_pipeline\n",
    "from sklearn.metrics import accuracy_score\n",
    "from sklearn.preprocessing import StandardScaler"
   ]
  },
  {
   "cell_type": "markdown",
   "id": "525839af",
   "metadata": {},
   "source": [
    "## Train SVC model"
   ]
  },
  {
   "cell_type": "code",
   "execution_count": 3,
   "id": "3adf602e",
   "metadata": {},
   "outputs": [
    {
     "data": {
      "text/plain": [
       "Pipeline(steps=[('standardscaler', StandardScaler()),\n",
       "                ('svc', SVC(C=0.001, gamma=0.001, kernel='linear'))])"
      ]
     },
     "execution_count": 3,
     "metadata": {},
     "output_type": "execute_result"
    }
   ],
   "source": [
    "clf = make_pipeline(StandardScaler(), SVC(kernel='poly', C=.001,gamma=.001))\n",
    "clf.fit(data.X_train, data.y_train)"
   ]
  },
  {
   "cell_type": "markdown",
   "id": "9280aad7",
   "metadata": {},
   "source": [
    "## Test SVC model"
   ]
  },
  {
   "cell_type": "code",
   "execution_count": 4,
   "id": "d0b867c5",
   "metadata": {},
   "outputs": [],
   "source": [
    "y_pred = clf.predict(data.X_test)"
   ]
  },
  {
   "cell_type": "markdown",
   "id": "0e2fee3c",
   "metadata": {},
   "source": [
    "## Evaluate the model's performance"
   ]
  },
  {
   "cell_type": "code",
   "execution_count": 5,
   "id": "8f188134",
   "metadata": {},
   "outputs": [
    {
     "data": {
      "text/plain": [
       "0.5652173913043478"
      ]
     },
     "execution_count": 5,
     "metadata": {},
     "output_type": "execute_result"
    }
   ],
   "source": [
    "clf.score(data.X_test, data.y_test)"
   ]
  },
  {
   "cell_type": "code",
   "execution_count": 6,
   "id": "0487783d",
   "metadata": {},
   "outputs": [],
   "source": [
    "# lol, that's pretty terrible\n",
    "# TODO: improve the model"
   ]
  },
  {
   "cell_type": "code",
   "execution_count": 7,
   "id": "e7807584",
   "metadata": {},
   "outputs": [
    {
     "data": {
      "text/plain": [
       "sample\n",
       "AD_13_03_1    1\n",
       "N_3_06_1      0\n",
       "AD_14_07_1    1\n",
       "AD_3_03_1     1\n",
       "N_9_12_1      0\n",
       "             ..\n",
       "AD_5_13_1     1\n",
       "AD_10_09_1    1\n",
       "AD_14_05_1    1\n",
       "AD_11_04_1    1\n",
       "N_2_06_1      0\n",
       "Name: group, Length: 92, dtype: int64"
      ]
     },
     "execution_count": 7,
     "metadata": {},
     "output_type": "execute_result"
    }
   ],
   "source": [
    "data.y_train"
   ]
  },
  {
   "cell_type": "code",
   "execution_count": 8,
   "id": "da80161f",
   "metadata": {},
   "outputs": [
    {
     "data": {
      "text/plain": [
       "1.791440497303882e-07"
      ]
     },
     "execution_count": 8,
     "metadata": {},
     "output_type": "execute_result"
    }
   ],
   "source": [
    "1/(92 * 60675)"
   ]
  },
  {
   "cell_type": "code",
   "execution_count": 9,
   "id": "44e16d88",
   "metadata": {},
   "outputs": [
    {
     "data": {
      "text/plain": [
       "array([1, 1, 1, 1, 1, 1, 1, 1, 1, 1, 1, 1, 1, 1, 1, 1, 1, 1, 1, 1, 1, 1,\n",
       "       1])"
      ]
     },
     "execution_count": 9,
     "metadata": {},
     "output_type": "execute_result"
    }
   ],
   "source": [
    "y_pred"
   ]
  },
  {
   "cell_type": "code",
   "execution_count": 10,
   "id": "ae93f2eb",
   "metadata": {},
   "outputs": [
    {
     "data": {
      "text/plain": [
       "array([0.39523527, 0.33504516, 0.64977793, 0.5276664 , 0.33282062,\n",
       "       0.27220761, 0.41551379, 0.43306217, 0.33563539, 0.31781105,\n",
       "       0.18193156, 0.31195738, 0.3299355 , 0.36373248, 0.4172419 ,\n",
       "       0.44058624, 0.31922015, 0.48382444, 0.39791461, 0.28122753,\n",
       "       0.32780783, 0.18093743, 0.34657089])"
      ]
     },
     "execution_count": 10,
     "metadata": {},
     "output_type": "execute_result"
    }
   ],
   "source": [
    "clf.decision_function(data.X_test)"
   ]
  },
  {
   "cell_type": "code",
   "execution_count": 11,
   "id": "30a82838",
   "metadata": {},
   "outputs": [],
   "source": [
    "from sklearn.decomposition import PCA"
   ]
  },
  {
   "cell_type": "code",
   "execution_count": 12,
   "id": "12f75042",
   "metadata": {},
   "outputs": [
    {
     "data": {
      "text/plain": [
       "<AxesSubplot:xlabel='0', ylabel='1'>"
      ]
     },
     "execution_count": 12,
     "metadata": {},
     "output_type": "execute_result"
    },
    {
     "data": {
      "image/png": "[encoded data removed]",
      "text/plain": [
       "<Figure size 432x288 with 1 Axes>"
      ]
     },
     "metadata": {
      "needs_background": "light"
     },
     "output_type": "display_data"
    }
   ],
   "source": [
    "pca = PCA(n_components=2)\n",
    "X_new = pca.fit_transform(data.data.loc[:,data.data.columns != 'group'])\n",
    "pd.DataFrame(X_new).plot.scatter(x=0, y=1, color=['blue' if x else 'red' for x in data.data.group])"
   ]
  },
  {
   "cell_type": "code",
   "execution_count": 13,
   "id": "c5c3a622",
   "metadata": {},
   "outputs": [
    {
     "data": {
      "text/plain": [
       "array([0.5       , 0.66666667, 0.58333333, 0.58333333, 0.5       ,\n",
       "       0.63636364, 0.63636364, 0.63636364, 0.63636364, 0.63636364])"
      ]
     },
     "execution_count": 13,
     "metadata": {},
     "output_type": "execute_result"
    }
   ],
   "source": [
    "X = data.data.loc[:,data.data.columns != 'group']\n",
    "y = data.data['group']\n",
    "from sklearn.model_selection import cross_val_score\n",
    "sklearn.model_selection.cross_val_score(clf, X, y, cv=10)"
   ]
  },
  {
   "cell_type": "code",
   "execution_count": 14,
   "id": "1ee84815",
   "metadata": {},
   "outputs": [
    {
     "data": {
      "text/plain": [
       "sample\n",
       "AD_8_12_1     1\n",
       "AD_11_08_1    1\n",
       "AD_11_10_1    1\n",
       "N_1_01_1      0\n",
       "N_1_05_1      0\n",
       "             ..\n",
       "AD_2_01_1     1\n",
       "AD_2_02_1     1\n",
       "AD_2_03_1     1\n",
       "AD_2_05_1     1\n",
       "AD_2_07_1     1\n",
       "Name: group, Length: 115, dtype: int64"
      ]
     },
     "execution_count": 14,
     "metadata": {},
     "output_type": "execute_result"
    }
   ],
   "source": [
    "data.y"
   ]
  },
  {
   "cell_type": "code",
   "execution_count": 15,
   "id": "4ff9eea3",
   "metadata": {},
   "outputs": [],
   "source": [
    "X, y, X_train, y_train, X_test, y_test = data.X, data.y, data.X_train, data.y_train, data.X_test, data.y_test"
   ]
  },
  {
   "cell_type": "code",
   "execution_count": 17,
   "id": "01aa5997",
   "metadata": {},
   "outputs": [
    {
     "name": "stdout",
     "output_type": "stream",
     "text": [
      "# Tuning hyper-parameters for precision\n",
      "\n"
     ]
    },
    {
     "name": "stderr",
     "output_type": "stream",
     "text": [
      "/home/amassarat/miniconda3/envs/BloodBrainClassifier/lib/python3.9/site-packages/sklearn/metrics/_classification.py:1248: UndefinedMetricWarning: Precision is ill-defined and being set to 0.0 in labels with no predicted samples. Use `zero_division` parameter to control this behavior.\n",
      "  _warn_prf(average, modifier, msg_start, len(result))\n",
      "/home/amassarat/miniconda3/envs/BloodBrainClassifier/lib/python3.9/site-packages/sklearn/metrics/_classification.py:1248: UndefinedMetricWarning: Precision is ill-defined and being set to 0.0 in labels with no predicted samples. Use `zero_division` parameter to control this behavior.\n",
      "  _warn_prf(average, modifier, msg_start, len(result))\n",
      "/home/amassarat/miniconda3/envs/BloodBrainClassifier/lib/python3.9/site-packages/sklearn/metrics/_classification.py:1248: UndefinedMetricWarning: Precision is ill-defined and being set to 0.0 in labels with no predicted samples. Use `zero_division` parameter to control this behavior.\n",
      "  _warn_prf(average, modifier, msg_start, len(result))\n",
      "/home/amassarat/miniconda3/envs/BloodBrainClassifier/lib/python3.9/site-packages/sklearn/metrics/_classification.py:1248: UndefinedMetricWarning: Precision is ill-defined and being set to 0.0 in labels with no predicted samples. Use `zero_division` parameter to control this behavior.\n",
      "  _warn_prf(average, modifier, msg_start, len(result))\n",
      "/home/amassarat/miniconda3/envs/BloodBrainClassifier/lib/python3.9/site-packages/sklearn/metrics/_classification.py:1248: UndefinedMetricWarning: Precision is ill-defined and being set to 0.0 in labels with no predicted samples. Use `zero_division` parameter to control this behavior.\n",
      "  _warn_prf(average, modifier, msg_start, len(result))\n",
      "/home/amassarat/miniconda3/envs/BloodBrainClassifier/lib/python3.9/site-packages/sklearn/metrics/_classification.py:1248: UndefinedMetricWarning: Precision is ill-defined and being set to 0.0 in labels with no predicted samples. Use `zero_division` parameter to control this behavior.\n",
      "  _warn_prf(average, modifier, msg_start, len(result))\n",
      "/home/amassarat/miniconda3/envs/BloodBrainClassifier/lib/python3.9/site-packages/sklearn/metrics/_classification.py:1248: UndefinedMetricWarning: Precision is ill-defined and being set to 0.0 in labels with no predicted samples. Use `zero_division` parameter to control this behavior.\n",
      "  _warn_prf(average, modifier, msg_start, len(result))\n",
      "/home/amassarat/miniconda3/envs/BloodBrainClassifier/lib/python3.9/site-packages/sklearn/metrics/_classification.py:1248: UndefinedMetricWarning: Precision is ill-defined and being set to 0.0 in labels with no predicted samples. Use `zero_division` parameter to control this behavior.\n",
      "  _warn_prf(average, modifier, msg_start, len(result))\n",
      "/home/amassarat/miniconda3/envs/BloodBrainClassifier/lib/python3.9/site-packages/sklearn/metrics/_classification.py:1248: UndefinedMetricWarning: Precision is ill-defined and being set to 0.0 in labels with no predicted samples. Use `zero_division` parameter to control this behavior.\n",
      "  _warn_prf(average, modifier, msg_start, len(result))\n",
      "/home/amassarat/miniconda3/envs/BloodBrainClassifier/lib/python3.9/site-packages/sklearn/metrics/_classification.py:1248: UndefinedMetricWarning: Precision is ill-defined and being set to 0.0 in labels with no predicted samples. Use `zero_division` parameter to control this behavior.\n",
      "  _warn_prf(average, modifier, msg_start, len(result))\n",
      "/home/amassarat/miniconda3/envs/BloodBrainClassifier/lib/python3.9/site-packages/sklearn/metrics/_classification.py:1248: UndefinedMetricWarning: Precision is ill-defined and being set to 0.0 in labels with no predicted samples. Use `zero_division` parameter to control this behavior.\n",
      "  _warn_prf(average, modifier, msg_start, len(result))\n",
      "/home/amassarat/miniconda3/envs/BloodBrainClassifier/lib/python3.9/site-packages/sklearn/metrics/_classification.py:1248: UndefinedMetricWarning: Precision is ill-defined and being set to 0.0 in labels with no predicted samples. Use `zero_division` parameter to control this behavior.\n",
      "  _warn_prf(average, modifier, msg_start, len(result))\n",
      "/home/amassarat/miniconda3/envs/BloodBrainClassifier/lib/python3.9/site-packages/sklearn/metrics/_classification.py:1248: UndefinedMetricWarning: Precision is ill-defined and being set to 0.0 in labels with no predicted samples. Use `zero_division` parameter to control this behavior.\n",
      "  _warn_prf(average, modifier, msg_start, len(result))\n",
      "/home/amassarat/miniconda3/envs/BloodBrainClassifier/lib/python3.9/site-packages/sklearn/metrics/_classification.py:1248: UndefinedMetricWarning: Precision is ill-defined and being set to 0.0 in labels with no predicted samples. Use `zero_division` parameter to control this behavior.\n",
      "  _warn_prf(average, modifier, msg_start, len(result))\n",
      "/home/amassarat/miniconda3/envs/BloodBrainClassifier/lib/python3.9/site-packages/sklearn/metrics/_classification.py:1248: UndefinedMetricWarning: Precision is ill-defined and being set to 0.0 in labels with no predicted samples. Use `zero_division` parameter to control this behavior.\n",
      "  _warn_prf(average, modifier, msg_start, len(result))\n",
      "/home/amassarat/miniconda3/envs/BloodBrainClassifier/lib/python3.9/site-packages/sklearn/metrics/_classification.py:1248: UndefinedMetricWarning: Precision is ill-defined and being set to 0.0 in labels with no predicted samples. Use `zero_division` parameter to control this behavior.\n",
      "  _warn_prf(average, modifier, msg_start, len(result))\n",
      "/home/amassarat/miniconda3/envs/BloodBrainClassifier/lib/python3.9/site-packages/sklearn/metrics/_classification.py:1248: UndefinedMetricWarning: Precision is ill-defined and being set to 0.0 in labels with no predicted samples. Use `zero_division` parameter to control this behavior.\n",
      "  _warn_prf(average, modifier, msg_start, len(result))\n",
      "/home/amassarat/miniconda3/envs/BloodBrainClassifier/lib/python3.9/site-packages/sklearn/metrics/_classification.py:1248: UndefinedMetricWarning: Precision is ill-defined and being set to 0.0 in labels with no predicted samples. Use `zero_division` parameter to control this behavior.\n",
      "  _warn_prf(average, modifier, msg_start, len(result))\n",
      "/home/amassarat/miniconda3/envs/BloodBrainClassifier/lib/python3.9/site-packages/sklearn/metrics/_classification.py:1248: UndefinedMetricWarning: Precision is ill-defined and being set to 0.0 in labels with no predicted samples. Use `zero_division` parameter to control this behavior.\n",
      "  _warn_prf(average, modifier, msg_start, len(result))\n",
      "/home/amassarat/miniconda3/envs/BloodBrainClassifier/lib/python3.9/site-packages/sklearn/metrics/_classification.py:1248: UndefinedMetricWarning: Precision is ill-defined and being set to 0.0 in labels with no predicted samples. Use `zero_division` parameter to control this behavior.\n",
      "  _warn_prf(average, modifier, msg_start, len(result))\n",
      "/home/amassarat/miniconda3/envs/BloodBrainClassifier/lib/python3.9/site-packages/sklearn/metrics/_classification.py:1248: UndefinedMetricWarning: Precision is ill-defined and being set to 0.0 in labels with no predicted samples. Use `zero_division` parameter to control this behavior.\n",
      "  _warn_prf(average, modifier, msg_start, len(result))\n",
      "/home/amassarat/miniconda3/envs/BloodBrainClassifier/lib/python3.9/site-packages/sklearn/metrics/_classification.py:1248: UndefinedMetricWarning: Precision is ill-defined and being set to 0.0 in labels with no predicted samples. Use `zero_division` parameter to control this behavior.\n",
      "  _warn_prf(average, modifier, msg_start, len(result))\n",
      "/home/amassarat/miniconda3/envs/BloodBrainClassifier/lib/python3.9/site-packages/sklearn/metrics/_classification.py:1248: UndefinedMetricWarning: Precision is ill-defined and being set to 0.0 in labels with no predicted samples. Use `zero_division` parameter to control this behavior.\n",
      "  _warn_prf(average, modifier, msg_start, len(result))\n",
      "/home/amassarat/miniconda3/envs/BloodBrainClassifier/lib/python3.9/site-packages/sklearn/metrics/_classification.py:1248: UndefinedMetricWarning: Precision is ill-defined and being set to 0.0 in labels with no predicted samples. Use `zero_division` parameter to control this behavior.\n",
      "  _warn_prf(average, modifier, msg_start, len(result))\n",
      "/home/amassarat/miniconda3/envs/BloodBrainClassifier/lib/python3.9/site-packages/sklearn/metrics/_classification.py:1248: UndefinedMetricWarning: Precision is ill-defined and being set to 0.0 in labels with no predicted samples. Use `zero_division` parameter to control this behavior.\n",
      "  _warn_prf(average, modifier, msg_start, len(result))\n",
      "/home/amassarat/miniconda3/envs/BloodBrainClassifier/lib/python3.9/site-packages/sklearn/metrics/_classification.py:1248: UndefinedMetricWarning: Precision is ill-defined and being set to 0.0 in labels with no predicted samples. Use `zero_division` parameter to control this behavior.\n",
      "  _warn_prf(average, modifier, msg_start, len(result))\n",
      "/home/amassarat/miniconda3/envs/BloodBrainClassifier/lib/python3.9/site-packages/sklearn/metrics/_classification.py:1248: UndefinedMetricWarning: Precision is ill-defined and being set to 0.0 in labels with no predicted samples. Use `zero_division` parameter to control this behavior.\n",
      "  _warn_prf(average, modifier, msg_start, len(result))\n",
      "/home/amassarat/miniconda3/envs/BloodBrainClassifier/lib/python3.9/site-packages/sklearn/metrics/_classification.py:1248: UndefinedMetricWarning: Precision is ill-defined and being set to 0.0 in labels with no predicted samples. Use `zero_division` parameter to control this behavior.\n",
      "  _warn_prf(average, modifier, msg_start, len(result))\n",
      "/home/amassarat/miniconda3/envs/BloodBrainClassifier/lib/python3.9/site-packages/sklearn/metrics/_classification.py:1248: UndefinedMetricWarning: Precision is ill-defined and being set to 0.0 in labels with no predicted samples. Use `zero_division` parameter to control this behavior.\n",
      "  _warn_prf(average, modifier, msg_start, len(result))\n",
      "/home/amassarat/miniconda3/envs/BloodBrainClassifier/lib/python3.9/site-packages/sklearn/metrics/_classification.py:1248: UndefinedMetricWarning: Precision is ill-defined and being set to 0.0 in labels with no predicted samples. Use `zero_division` parameter to control this behavior.\n",
      "  _warn_prf(average, modifier, msg_start, len(result))\n",
      "/home/amassarat/miniconda3/envs/BloodBrainClassifier/lib/python3.9/site-packages/sklearn/metrics/_classification.py:1248: UndefinedMetricWarning: Precision is ill-defined and being set to 0.0 in labels with no predicted samples. Use `zero_division` parameter to control this behavior.\n",
      "  _warn_prf(average, modifier, msg_start, len(result))\n",
      "/home/amassarat/miniconda3/envs/BloodBrainClassifier/lib/python3.9/site-packages/sklearn/metrics/_classification.py:1248: UndefinedMetricWarning: Precision is ill-defined and being set to 0.0 in labels with no predicted samples. Use `zero_division` parameter to control this behavior.\n",
      "  _warn_prf(average, modifier, msg_start, len(result))\n",
      "/home/amassarat/miniconda3/envs/BloodBrainClassifier/lib/python3.9/site-packages/sklearn/metrics/_classification.py:1248: UndefinedMetricWarning: Precision is ill-defined and being set to 0.0 in labels with no predicted samples. Use `zero_division` parameter to control this behavior.\n",
      "  _warn_prf(average, modifier, msg_start, len(result))\n",
      "/home/amassarat/miniconda3/envs/BloodBrainClassifier/lib/python3.9/site-packages/sklearn/metrics/_classification.py:1248: UndefinedMetricWarning: Precision is ill-defined and being set to 0.0 in labels with no predicted samples. Use `zero_division` parameter to control this behavior.\n",
      "  _warn_prf(average, modifier, msg_start, len(result))\n",
      "/home/amassarat/miniconda3/envs/BloodBrainClassifier/lib/python3.9/site-packages/sklearn/metrics/_classification.py:1248: UndefinedMetricWarning: Precision is ill-defined and being set to 0.0 in labels with no predicted samples. Use `zero_division` parameter to control this behavior.\n",
      "  _warn_prf(average, modifier, msg_start, len(result))\n"
     ]
    },
    {
     "name": "stdout",
     "output_type": "stream",
     "text": [
      "Best parameters set found on development set:\n",
      "\n",
      "{'C': 1e-06, 'degree': 5, 'gamma': 1e-08, 'kernel': 'poly'}\n",
      "\n",
      "Grid scores on development set:\n",
      "\n",
      "0.638 (+/-0.107) for {'C': 1, 'degree': 5, 'gamma': 1e-07, 'kernel': 'poly'}\n",
      "0.638 (+/-0.107) for {'C': 1, 'degree': 5, 'gamma': 1e-08, 'kernel': 'poly'}\n",
      "0.449 (+/-0.221) for {'C': 1, 'degree': 5, 'gamma': 1e-10, 'kernel': 'poly'}\n",
      "0.661 (+/-0.165) for {'C': 1, 'degree': 6, 'gamma': 1e-07, 'kernel': 'poly'}\n",
      "0.661 (+/-0.165) for {'C': 1, 'degree': 6, 'gamma': 1e-08, 'kernel': 'poly'}\n",
      "0.392 (+/-0.184) for {'C': 1, 'degree': 6, 'gamma': 1e-10, 'kernel': 'poly'}\n",
      "0.667 (+/-0.148) for {'C': 1, 'degree': 7, 'gamma': 1e-07, 'kernel': 'poly'}\n",
      "0.667 (+/-0.148) for {'C': 1, 'degree': 7, 'gamma': 1e-08, 'kernel': 'poly'}\n",
      "0.446 (+/-0.226) for {'C': 1, 'degree': 7, 'gamma': 1e-10, 'kernel': 'poly'}\n",
      "0.663 (+/-0.161) for {'C': 1, 'degree': 8, 'gamma': 1e-07, 'kernel': 'poly'}\n",
      "0.663 (+/-0.161) for {'C': 1, 'degree': 8, 'gamma': 1e-08, 'kernel': 'poly'}\n",
      "0.489 (+/-0.286) for {'C': 1, 'degree': 8, 'gamma': 1e-10, 'kernel': 'poly'}\n",
      "0.648 (+/-0.212) for {'C': 1, 'degree': 9, 'gamma': 1e-07, 'kernel': 'poly'}\n",
      "0.648 (+/-0.212) for {'C': 1, 'degree': 9, 'gamma': 1e-08, 'kernel': 'poly'}\n",
      "0.492 (+/-0.290) for {'C': 1, 'degree': 9, 'gamma': 1e-10, 'kernel': 'poly'}\n",
      "0.638 (+/-0.107) for {'C': 1e-06, 'degree': 5, 'gamma': 1e-07, 'kernel': 'poly'}\n",
      "0.671 (+/-0.204) for {'C': 1e-06, 'degree': 5, 'gamma': 1e-08, 'kernel': 'poly'}\n",
      "0.332 (+/-0.017) for {'C': 1e-06, 'degree': 5, 'gamma': 1e-10, 'kernel': 'poly'}\n",
      "0.661 (+/-0.165) for {'C': 1e-06, 'degree': 6, 'gamma': 1e-07, 'kernel': 'poly'}\n",
      "0.610 (+/-0.119) for {'C': 1e-06, 'degree': 6, 'gamma': 1e-08, 'kernel': 'poly'}\n",
      "0.332 (+/-0.017) for {'C': 1e-06, 'degree': 6, 'gamma': 1e-10, 'kernel': 'poly'}\n",
      "0.667 (+/-0.148) for {'C': 1e-06, 'degree': 7, 'gamma': 1e-07, 'kernel': 'poly'}\n",
      "0.667 (+/-0.148) for {'C': 1e-06, 'degree': 7, 'gamma': 1e-08, 'kernel': 'poly'}\n",
      "0.332 (+/-0.017) for {'C': 1e-06, 'degree': 7, 'gamma': 1e-10, 'kernel': 'poly'}\n",
      "0.663 (+/-0.161) for {'C': 1e-06, 'degree': 8, 'gamma': 1e-07, 'kernel': 'poly'}\n",
      "0.663 (+/-0.161) for {'C': 1e-06, 'degree': 8, 'gamma': 1e-08, 'kernel': 'poly'}\n",
      "0.332 (+/-0.017) for {'C': 1e-06, 'degree': 8, 'gamma': 1e-10, 'kernel': 'poly'}\n",
      "0.648 (+/-0.212) for {'C': 1e-06, 'degree': 9, 'gamma': 1e-07, 'kernel': 'poly'}\n",
      "0.648 (+/-0.212) for {'C': 1e-06, 'degree': 9, 'gamma': 1e-08, 'kernel': 'poly'}\n",
      "0.332 (+/-0.017) for {'C': 1e-06, 'degree': 9, 'gamma': 1e-10, 'kernel': 'poly'}\n",
      "0.332 (+/-0.017) for {'C': 1, 'gamma': 0.001, 'kernel': 'rbf'}\n",
      "0.630 (+/-0.210) for {'C': 1, 'kernel': 'linear'}\n",
      "\n",
      "Detailed classification report:\n",
      "\n",
      "The model is trained on the full development set.\n",
      "The scores are computed on the full evaluation set.\n",
      "\n",
      "              precision    recall  f1-score   support\n",
      "\n",
      "           0       0.58      0.70      0.64        10\n",
      "           1       0.73      0.62      0.67        13\n",
      "\n",
      "    accuracy                           0.65        23\n",
      "   macro avg       0.66      0.66      0.65        23\n",
      "weighted avg       0.66      0.65      0.65        23\n",
      "\n",
      "\n",
      "# Tuning hyper-parameters for recall\n",
      "\n",
      "Best parameters set found on development set:\n",
      "\n",
      "{'C': 1, 'degree': 7, 'gamma': 1e-07, 'kernel': 'poly'}\n",
      "\n",
      "Grid scores on development set:\n",
      "\n",
      "0.647 (+/-0.121) for {'C': 1, 'degree': 5, 'gamma': 1e-07, 'kernel': 'poly'}\n",
      "0.647 (+/-0.121) for {'C': 1, 'degree': 5, 'gamma': 1e-08, 'kernel': 'poly'}\n",
      "0.501 (+/-0.053) for {'C': 1, 'degree': 5, 'gamma': 1e-10, 'kernel': 'poly'}\n",
      "0.669 (+/-0.167) for {'C': 1, 'degree': 6, 'gamma': 1e-07, 'kernel': 'poly'}\n",
      "0.669 (+/-0.167) for {'C': 1, 'degree': 6, 'gamma': 1e-08, 'kernel': 'poly'}\n",
      "0.476 (+/-0.069) for {'C': 1, 'degree': 6, 'gamma': 1e-10, 'kernel': 'poly'}\n",
      "0.678 (+/-0.143) for {'C': 1, 'degree': 7, 'gamma': 1e-07, 'kernel': 'poly'}\n",
      "0.678 (+/-0.143) for {'C': 1, 'degree': 7, 'gamma': 1e-08, 'kernel': 'poly'}\n",
      "0.493 (+/-0.082) for {'C': 1, 'degree': 7, 'gamma': 1e-10, 'kernel': 'poly'}\n",
      "0.669 (+/-0.151) for {'C': 1, 'degree': 8, 'gamma': 1e-07, 'kernel': 'poly'}\n",
      "0.669 (+/-0.151) for {'C': 1, 'degree': 8, 'gamma': 1e-08, 'kernel': 'poly'}\n",
      "0.526 (+/-0.125) for {'C': 1, 'degree': 8, 'gamma': 1e-10, 'kernel': 'poly'}\n",
      "0.652 (+/-0.210) for {'C': 1, 'degree': 9, 'gamma': 1e-07, 'kernel': 'poly'}\n",
      "0.652 (+/-0.210) for {'C': 1, 'degree': 9, 'gamma': 1e-08, 'kernel': 'poly'}\n",
      "0.535 (+/-0.135) for {'C': 1, 'degree': 9, 'gamma': 1e-10, 'kernel': 'poly'}\n",
      "0.647 (+/-0.121) for {'C': 1e-06, 'degree': 5, 'gamma': 1e-07, 'kernel': 'poly'}\n",
      "0.626 (+/-0.112) for {'C': 1e-06, 'degree': 5, 'gamma': 1e-08, 'kernel': 'poly'}\n",
      "0.500 (+/-0.000) for {'C': 1e-06, 'degree': 5, 'gamma': 1e-10, 'kernel': 'poly'}\n",
      "0.669 (+/-0.167) for {'C': 1e-06, 'degree': 6, 'gamma': 1e-07, 'kernel': 'poly'}\n",
      "0.616 (+/-0.138) for {'C': 1e-06, 'degree': 6, 'gamma': 1e-08, 'kernel': 'poly'}\n",
      "0.500 (+/-0.000) for {'C': 1e-06, 'degree': 6, 'gamma': 1e-10, 'kernel': 'poly'}\n",
      "0.678 (+/-0.143) for {'C': 1e-06, 'degree': 7, 'gamma': 1e-07, 'kernel': 'poly'}\n",
      "0.678 (+/-0.143) for {'C': 1e-06, 'degree': 7, 'gamma': 1e-08, 'kernel': 'poly'}\n",
      "0.500 (+/-0.000) for {'C': 1e-06, 'degree': 7, 'gamma': 1e-10, 'kernel': 'poly'}\n",
      "0.669 (+/-0.151) for {'C': 1e-06, 'degree': 8, 'gamma': 1e-07, 'kernel': 'poly'}\n",
      "0.669 (+/-0.151) for {'C': 1e-06, 'degree': 8, 'gamma': 1e-08, 'kernel': 'poly'}\n",
      "0.500 (+/-0.000) for {'C': 1e-06, 'degree': 8, 'gamma': 1e-10, 'kernel': 'poly'}\n",
      "0.652 (+/-0.210) for {'C': 1e-06, 'degree': 9, 'gamma': 1e-07, 'kernel': 'poly'}\n",
      "0.652 (+/-0.210) for {'C': 1e-06, 'degree': 9, 'gamma': 1e-08, 'kernel': 'poly'}\n",
      "0.500 (+/-0.000) for {'C': 1e-06, 'degree': 9, 'gamma': 1e-10, 'kernel': 'poly'}\n",
      "0.500 (+/-0.000) for {'C': 1, 'gamma': 0.001, 'kernel': 'rbf'}\n",
      "0.619 (+/-0.221) for {'C': 1, 'kernel': 'linear'}\n",
      "\n",
      "Detailed classification report:\n",
      "\n",
      "The model is trained on the full development set.\n",
      "The scores are computed on the full evaluation set.\n",
      "\n",
      "              precision    recall  f1-score   support\n",
      "\n",
      "           0       0.50      0.80      0.62        10\n",
      "           1       0.71      0.38      0.50        13\n",
      "\n",
      "    accuracy                           0.57        23\n",
      "   macro avg       0.61      0.59      0.56        23\n",
      "weighted avg       0.62      0.57      0.55        23\n",
      "\n",
      "\n"
     ]
    }
   ],
   "source": [
    "from sklearn.model_selection import train_test_split\n",
    "from sklearn.model_selection import GridSearchCV\n",
    "from sklearn.metrics import classification_report\n",
    "from sklearn.svm import SVC\n",
    "\n",
    "tuned_parameters = [{'kernel': ['poly'], 'gamma': [1e-7, 1e-8, 1e-10], 'C': [1, 0.000001], 'degree':[5, 6, 7, 8, 9]},\n",
    "                    {'kernel': ['rbf'], 'gamma': [1e-3], 'C': [1]},\n",
    "                    {'kernel': ['linear'], 'C': [1]}]\n",
    "\n",
    "scores = ['precision', 'recall']\n",
    "\n",
    "for score in scores:\n",
    "    print(\"# Tuning hyper-parameters for %s\" % score)\n",
    "    print()\n",
    "\n",
    "    clf = GridSearchCV(\n",
    "        SVC(), tuned_parameters, scoring='%s_macro' % score\n",
    "    )\n",
    "    clf.fit(X_train, y_train)\n",
    "\n",
    "    print(\"Best parameters set found on development set:\")\n",
    "    print()\n",
    "    print(clf.best_params_)\n",
    "    print()\n",
    "    print(\"Grid scores on development set:\")\n",
    "    print()\n",
    "    means = clf.cv_results_['mean_test_score']\n",
    "    stds = clf.cv_results_['std_test_score']\n",
    "    for mean, std, params in zip(means, stds, clf.cv_results_['params']):\n",
    "        print(\"%0.3f (+/-%0.03f) for %r\"\n",
    "              % (mean, std * 2, params))\n",
    "    print()\n",
    "\n",
    "    print(\"Detailed classification report:\")\n",
    "    print()\n",
    "    print(\"The model is trained on the full development set.\")\n",
    "    print(\"The scores are computed on the full evaluation set.\")\n",
    "    print()\n",
    "    y_true, y_pred = y_test, clf.predict(X_test)\n",
    "    print(classification_report(y_true, y_pred))\n",
    "    print()"
   ]
  },
  {
   "cell_type": "code",
   "execution_count": null,
   "id": "5dfcd5b5",
   "metadata": {},
   "outputs": [],
   "source": []
  }
 ],
 "metadata": {
  "kernelspec": {
   "display_name": "Python [conda env:BloodBrainClassifier]",
   "language": "python",
   "name": "conda-env-BloodBrainClassifier-py"
  },
  "language_info": {
   "codemirror_mode": {
    "name": "ipython",
    "version": 3
   },
   "file_extension": ".py",
   "mimetype": "text/x-python",
   "name": "python",
   "nbconvert_exporter": "python",
   "pygments_lexer": "ipython3",
   "version": "3.9.4"
  }
 },
 "nbformat": 4,
 "nbformat_minor": 5
}
