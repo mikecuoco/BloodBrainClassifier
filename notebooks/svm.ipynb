{
 "cells": [
  {
   "cell_type": "markdown",
   "id": "9d2714d3",
   "metadata": {},
   "source": [
    "## Import boilerplate and setup"
   ]
  },
  {
   "cell_type": "code",
   "execution_count": 18,
   "id": "3ca49fc9",
   "metadata": {},
   "outputs": [
    {
     "data": {
      "text/plain": [
       "'/mnt/c/Users/aryam/Documents/school/2020/spring/cse283/BloodBrainClassifier'"
      ]
     },
     "execution_count": 18,
     "metadata": {},
     "output_type": "execute_result"
    }
   ],
   "source": [
    "# first, change the working directory, if needed\n",
    "import os\n",
    "if os.getcwd().endswith('notebooks'):\n",
    "    os.chdir('..')\n",
    "os.getcwd()"
   ]
  },
  {
   "cell_type": "code",
   "execution_count": 19,
   "id": "0220024a",
   "metadata": {},
   "outputs": [],
   "source": [
    "# now, import whatever else we need\n",
    "import sklearn\n",
    "import importlib\n",
    "import pandas as pd\n",
    "from sklearn.svm import SVC\n",
    "import scripts.starter as data\n",
    "from sklearn.pipeline import make_pipeline\n",
    "from sklearn.metrics import accuracy_score\n",
    "from sklearn.preprocessing import StandardScaler"
   ]
  },
  {
   "cell_type": "markdown",
   "id": "4b5c0545",
   "metadata": {},
   "source": [
    "## Feature Selection"
   ]
  },
  {
   "cell_type": "code",
   "execution_count": 20,
   "id": "f955cba6",
   "metadata": {},
   "outputs": [
    {
     "name": "stdout",
     "output_type": "stream",
     "text": [
      "There are 100 genes, total\n"
     ]
    }
   ],
   "source": [
    "SUBSET_GENES_N = 1000\n",
    "print(\"There are {} genes, total\".format(len(data.data.columns)-1))\n",
    "selected_genes = open('data/ranked_genes.tsv').read().split('\\n')\n",
    "selected_genes = selected_genes[:SUBSET_GENES_N]"
   ]
  },
  {
   "cell_type": "code",
   "execution_count": 21,
   "id": "8125515a",
   "metadata": {},
   "outputs": [
    {
     "data": {
      "text/plain": [
       "1001"
      ]
     },
     "execution_count": 21,
     "metadata": {},
     "output_type": "execute_result"
    }
   ],
   "source": [
    "importlib.reload(data)\n",
    "data.data = data.data[selected_genes + ['group']]\n",
    "data.split()\n",
    "len(data.data.columns)"
   ]
  },
  {
   "cell_type": "markdown",
   "id": "991502ea",
   "metadata": {},
   "source": [
    "## Train SVC model"
   ]
  },
  {
   "cell_type": "code",
   "execution_count": 22,
   "id": "547018df",
   "metadata": {},
   "outputs": [
    {
     "data": {
      "text/plain": [
       "Pipeline(steps=[('standardscaler', StandardScaler()),\n",
       "                ('svc', SVC(C=0.01, kernel='linear'))])"
      ]
     },
     "execution_count": 22,
     "metadata": {},
     "output_type": "execute_result"
    }
   ],
   "source": [
    "clf = make_pipeline(StandardScaler(), SVC(kernel='linear', C=.01))\n",
    "clf.fit(data.X_train, data.y_train)"
   ]
  },
  {
   "cell_type": "markdown",
   "id": "5f3e5d01",
   "metadata": {},
   "source": [
    "## Test SVC model and evaluate the model's performance"
   ]
  },
  {
   "cell_type": "code",
   "execution_count": 23,
   "id": "d75b69dc",
   "metadata": {},
   "outputs": [],
   "source": [
    "y_pred = clf.predict(data.X_test)"
   ]
  },
  {
   "cell_type": "code",
   "execution_count": 24,
   "id": "a695e288",
   "metadata": {},
   "outputs": [
    {
     "data": {
      "text/plain": [
       "0.42424242424242425"
      ]
     },
     "execution_count": 24,
     "metadata": {},
     "output_type": "execute_result"
    }
   ],
   "source": [
    "clf.score(data.X_test, data.y_test)"
   ]
  },
  {
   "cell_type": "markdown",
   "id": "7296fe42",
   "metadata": {},
   "source": [
    "Wow, that's pretty terrible. Is there any way we can improve that?\n",
    "\n",
    "First, let's ask ourselves what the model might be doing wrong. Let's compare the predictions to the true labels."
   ]
  },
  {
   "cell_type": "code",
   "execution_count": 25,
   "id": "8994c0b4",
   "metadata": {},
   "outputs": [
    {
     "data": {
      "text/html": [
       "<div>\n",
       "<style scoped>\n",
       "    .dataframe tbody tr th:only-of-type {\n",
       "        vertical-align: middle;\n",
       "    }\n",
       "\n",
       "    .dataframe tbody tr th {\n",
       "        vertical-align: top;\n",
       "    }\n",
       "\n",
       "    .dataframe thead th {\n",
       "        text-align: right;\n",
       "    }\n",
       "</style>\n",
       "<table border=\"1\" class=\"dataframe\">\n",
       "  <thead>\n",
       "    <tr style=\"text-align: right;\">\n",
       "      <th></th>\n",
       "      <th>group</th>\n",
       "      <th>0</th>\n",
       "    </tr>\n",
       "    <tr>\n",
       "      <th>sample</th>\n",
       "      <th></th>\n",
       "      <th></th>\n",
       "    </tr>\n",
       "  </thead>\n",
       "  <tbody>\n",
       "    <tr>\n",
       "      <th>N_7_01_1</th>\n",
       "      <td>0</td>\n",
       "      <td>1</td>\n",
       "    </tr>\n",
       "    <tr>\n",
       "      <th>AD_7_06_1</th>\n",
       "      <td>1</td>\n",
       "      <td>1</td>\n",
       "    </tr>\n",
       "    <tr>\n",
       "      <th>N_3_03_1</th>\n",
       "      <td>0</td>\n",
       "      <td>1</td>\n",
       "    </tr>\n",
       "    <tr>\n",
       "      <th>N_9_08_1</th>\n",
       "      <td>0</td>\n",
       "      <td>1</td>\n",
       "    </tr>\n",
       "    <tr>\n",
       "      <th>N_5_06_1</th>\n",
       "      <td>0</td>\n",
       "      <td>1</td>\n",
       "    </tr>\n",
       "    <tr>\n",
       "      <th>N_2_03_1</th>\n",
       "      <td>0</td>\n",
       "      <td>1</td>\n",
       "    </tr>\n",
       "    <tr>\n",
       "      <th>N_8_07_1</th>\n",
       "      <td>0</td>\n",
       "      <td>0</td>\n",
       "    </tr>\n",
       "    <tr>\n",
       "      <th>AD_2_02_1</th>\n",
       "      <td>1</td>\n",
       "      <td>1</td>\n",
       "    </tr>\n",
       "    <tr>\n",
       "      <th>AD_11_02_1</th>\n",
       "      <td>1</td>\n",
       "      <td>0</td>\n",
       "    </tr>\n",
       "    <tr>\n",
       "      <th>AD_15_04_1</th>\n",
       "      <td>1</td>\n",
       "      <td>1</td>\n",
       "    </tr>\n",
       "    <tr>\n",
       "      <th>AD_13_00_1</th>\n",
       "      <td>1</td>\n",
       "      <td>0</td>\n",
       "    </tr>\n",
       "    <tr>\n",
       "      <th>AD_15_06_1</th>\n",
       "      <td>1</td>\n",
       "      <td>1</td>\n",
       "    </tr>\n",
       "    <tr>\n",
       "      <th>AD_13_06_1</th>\n",
       "      <td>1</td>\n",
       "      <td>0</td>\n",
       "    </tr>\n",
       "    <tr>\n",
       "      <th>AD_11_10_1</th>\n",
       "      <td>1</td>\n",
       "      <td>0</td>\n",
       "    </tr>\n",
       "    <tr>\n",
       "      <th>AD_1_13_1</th>\n",
       "      <td>1</td>\n",
       "      <td>1</td>\n",
       "    </tr>\n",
       "    <tr>\n",
       "      <th>N_6_03_1</th>\n",
       "      <td>0</td>\n",
       "      <td>1</td>\n",
       "    </tr>\n",
       "    <tr>\n",
       "      <th>N_3_04_1</th>\n",
       "      <td>0</td>\n",
       "      <td>1</td>\n",
       "    </tr>\n",
       "    <tr>\n",
       "      <th>N_3_06_1</th>\n",
       "      <td>0</td>\n",
       "      <td>1</td>\n",
       "    </tr>\n",
       "    <tr>\n",
       "      <th>C_8_06_1</th>\n",
       "      <td>1</td>\n",
       "      <td>1</td>\n",
       "    </tr>\n",
       "    <tr>\n",
       "      <th>AD_12_05_1</th>\n",
       "      <td>1</td>\n",
       "      <td>0</td>\n",
       "    </tr>\n",
       "    <tr>\n",
       "      <th>N_3_01_1</th>\n",
       "      <td>0</td>\n",
       "      <td>1</td>\n",
       "    </tr>\n",
       "    <tr>\n",
       "      <th>N_4_01_1</th>\n",
       "      <td>0</td>\n",
       "      <td>1</td>\n",
       "    </tr>\n",
       "    <tr>\n",
       "      <th>AD_15_01_1</th>\n",
       "      <td>1</td>\n",
       "      <td>1</td>\n",
       "    </tr>\n",
       "    <tr>\n",
       "      <th>N_4_02_1</th>\n",
       "      <td>0</td>\n",
       "      <td>0</td>\n",
       "    </tr>\n",
       "    <tr>\n",
       "      <th>AD_14_05_1</th>\n",
       "      <td>1</td>\n",
       "      <td>0</td>\n",
       "    </tr>\n",
       "    <tr>\n",
       "      <th>AD_11_04_1</th>\n",
       "      <td>1</td>\n",
       "      <td>1</td>\n",
       "    </tr>\n",
       "    <tr>\n",
       "      <th>AD_2_01_1</th>\n",
       "      <td>1</td>\n",
       "      <td>1</td>\n",
       "    </tr>\n",
       "    <tr>\n",
       "      <th>AD_1_08_1</th>\n",
       "      <td>1</td>\n",
       "      <td>1</td>\n",
       "    </tr>\n",
       "    <tr>\n",
       "      <th>AD_1_09_1</th>\n",
       "      <td>1</td>\n",
       "      <td>0</td>\n",
       "    </tr>\n",
       "    <tr>\n",
       "      <th>AD_8_12_1</th>\n",
       "      <td>1</td>\n",
       "      <td>0</td>\n",
       "    </tr>\n",
       "    <tr>\n",
       "      <th>C_9_10_1</th>\n",
       "      <td>1</td>\n",
       "      <td>1</td>\n",
       "    </tr>\n",
       "    <tr>\n",
       "      <th>AD_3_03_1</th>\n",
       "      <td>1</td>\n",
       "      <td>0</td>\n",
       "    </tr>\n",
       "    <tr>\n",
       "      <th>AD_8_03_1</th>\n",
       "      <td>1</td>\n",
       "      <td>1</td>\n",
       "    </tr>\n",
       "  </tbody>\n",
       "</table>\n",
       "</div>"
      ],
      "text/plain": [
       "            group  0\n",
       "sample              \n",
       "N_7_01_1        0  1\n",
       "AD_7_06_1       1  1\n",
       "N_3_03_1        0  1\n",
       "N_9_08_1        0  1\n",
       "N_5_06_1        0  1\n",
       "N_2_03_1        0  1\n",
       "N_8_07_1        0  0\n",
       "AD_2_02_1       1  1\n",
       "AD_11_02_1      1  0\n",
       "AD_15_04_1      1  1\n",
       "AD_13_00_1      1  0\n",
       "AD_15_06_1      1  1\n",
       "AD_13_06_1      1  0\n",
       "AD_11_10_1      1  0\n",
       "AD_1_13_1       1  1\n",
       "N_6_03_1        0  1\n",
       "N_3_04_1        0  1\n",
       "N_3_06_1        0  1\n",
       "C_8_06_1        1  1\n",
       "AD_12_05_1      1  0\n",
       "N_3_01_1        0  1\n",
       "N_4_01_1        0  1\n",
       "AD_15_01_1      1  1\n",
       "N_4_02_1        0  0\n",
       "AD_14_05_1      1  0\n",
       "AD_11_04_1      1  1\n",
       "AD_2_01_1       1  1\n",
       "AD_1_08_1       1  1\n",
       "AD_1_09_1       1  0\n",
       "AD_8_12_1       1  0\n",
       "C_9_10_1        1  1\n",
       "AD_3_03_1       1  0\n",
       "AD_8_03_1       1  1"
      ]
     },
     "execution_count": 25,
     "metadata": {},
     "output_type": "execute_result"
    }
   ],
   "source": [
    "pd.concat((data.y_test, pd.Series(y_pred, index=data.y_test.index)), axis=1)"
   ]
  },
  {
   "cell_type": "code",
   "execution_count": 26,
   "id": "b595c5de",
   "metadata": {},
   "outputs": [
    {
     "data": {
      "text/plain": [
       "array([ 1.1798214 ,  0.78758489,  1.43847569,  1.50270004,  0.7195208 ,\n",
       "        1.68706776, -0.12433376,  0.6133076 , -0.06830291,  0.48424161,\n",
       "       -0.5395076 ,  0.9165756 , -0.27296358, -0.34092248,  0.64145183,\n",
       "        1.59918019,  0.83271322,  0.47872101,  0.47484229, -0.17985034,\n",
       "        0.28050484,  3.76031486,  0.90802714, -1.52404743, -0.13969343,\n",
       "        0.27810171,  0.89231942,  0.51435677, -0.02975442, -0.04150706,\n",
       "        1.0148728 , -0.12012791,  0.2565751 ])"
      ]
     },
     "execution_count": 26,
     "metadata": {},
     "output_type": "execute_result"
    }
   ],
   "source": [
    "clf.decision_function(data.X_test)"
   ]
  },
  {
   "cell_type": "markdown",
   "id": "0a898a37",
   "metadata": {},
   "source": [
    "## Could there be overfitting?\n",
    "How does our model perform when given all of the data, compared to before?"
   ]
  },
  {
   "cell_type": "code",
   "execution_count": 27,
   "id": "f9e9a362",
   "metadata": {},
   "outputs": [
    {
     "data": {
      "text/plain": [
       "1.0"
      ]
     },
     "execution_count": 27,
     "metadata": {},
     "output_type": "execute_result"
    }
   ],
   "source": [
    "clf.fit(data.X, data.y)\n",
    "clf.score(data.X_test, data.y_test)"
   ]
  },
  {
   "cell_type": "markdown",
   "id": "88331869",
   "metadata": {},
   "source": [
    "Hmmm.. perhaps"
   ]
  },
  {
   "cell_type": "markdown",
   "id": "09769968",
   "metadata": {},
   "source": [
    "## Are the samples separable to begin with?\n",
    "Let's take a look at the first two PCs against each other."
   ]
  },
  {
   "cell_type": "code",
   "execution_count": 28,
   "id": "e4f3d6c7",
   "metadata": {},
   "outputs": [],
   "source": [
    "from sklearn.decomposition import PCA"
   ]
  },
  {
   "cell_type": "code",
   "execution_count": 29,
   "id": "766ac473",
   "metadata": {},
   "outputs": [
    {
     "data": {
      "text/plain": [
       "<AxesSubplot:xlabel='0', ylabel='1'>"
      ]
     },
     "execution_count": 29,
     "metadata": {},
     "output_type": "execute_result"
    },
    {
     "data": {
      "image/png": "[encoded data removed]",
      "text/plain": [
       "<Figure size 432x288 with 1 Axes>"
      ]
     },
     "metadata": {
      "needs_background": "light"
     },
     "output_type": "display_data"
    }
   ],
   "source": [
    "pca = PCA(n_components=2)\n",
    "X_new = pca.fit_transform(data.X)\n",
    "pd.DataFrame(X_new).plot.scatter(x=0, y=1, color=['blue' if x else 'red' for x in data.data.group])"
   ]
  },
  {
   "cell_type": "code",
   "execution_count": 30,
   "id": "576cdee8",
   "metadata": {},
   "outputs": [
    {
     "data": {
      "text/plain": [
       "array([0.5       , 0.85714286, 0.69230769, 0.69230769, 0.69230769,\n",
       "       0.84615385, 0.76923077, 0.69230769, 0.61538462, 0.61538462])"
      ]
     },
     "execution_count": 30,
     "metadata": {},
     "output_type": "execute_result"
    }
   ],
   "source": [
    "from sklearn.model_selection import cross_val_score\n",
    "clf.fit(data.X_train, data.y_train)\n",
    "sklearn.model_selection.cross_val_score(clf, data.X, data.y, cv=10)"
   ]
  },
  {
   "cell_type": "code",
   "execution_count": 31,
   "id": "cf2dcd73",
   "metadata": {},
   "outputs": [
    {
     "name": "stdout",
     "output_type": "stream",
     "text": [
      "# Tuning hyper-parameters for f1\n",
      "\n",
      "Best parameters set found on development set:\n",
      "\n",
      "{'C': 2, 'kernel': 'linear'}\n",
      "\n",
      "Grid scores on development set:\n",
      "\n",
      "0.414 (+/-0.015) for {'C': 1, 'degree': 2, 'kernel': 'poly'}\n",
      "0.407 (+/-0.035) for {'C': 1, 'degree': 5, 'kernel': 'poly'}\n",
      "0.586 (+/-0.330) for {'C': 1, 'degree': 9, 'kernel': 'poly'}\n",
      "0.414 (+/-0.015) for {'C': 1e-06, 'degree': 2, 'kernel': 'poly'}\n",
      "0.414 (+/-0.015) for {'C': 1e-06, 'degree': 5, 'kernel': 'poly'}\n",
      "0.414 (+/-0.015) for {'C': 1e-06, 'degree': 9, 'kernel': 'poly'}\n",
      "0.414 (+/-0.015) for {'C': 0.01, 'kernel': 'rbf'}\n",
      "0.414 (+/-0.015) for {'C': 0.8, 'kernel': 'rbf'}\n",
      "0.414 (+/-0.015) for {'C': 1, 'kernel': 'rbf'}\n",
      "0.411 (+/-0.028) for {'C': 1.5, 'kernel': 'rbf'}\n",
      "0.411 (+/-0.028) for {'C': 1.7, 'kernel': 'rbf'}\n",
      "0.411 (+/-0.028) for {'C': 2, 'kernel': 'rbf'}\n",
      "0.858 (+/-0.192) for {'C': 2, 'kernel': 'linear'}\n",
      "0.858 (+/-0.192) for {'C': 1, 'kernel': 'linear'}\n",
      "0.858 (+/-0.192) for {'C': 0.5, 'kernel': 'linear'}\n",
      "0.858 (+/-0.192) for {'C': 0.1, 'kernel': 'linear'}\n",
      "0.858 (+/-0.192) for {'C': 0.01, 'kernel': 'linear'}\n",
      "\n",
      "Detailed classification report:\n",
      "\n",
      "The model is trained on the full development set.\n",
      "The scores are computed on the full evaluation set.\n",
      "\n",
      "              precision    recall  f1-score   support\n",
      "\n",
      "           0       0.30      0.25      0.27        12\n",
      "           1       0.61      0.67      0.64        21\n",
      "\n",
      "    accuracy                           0.52        33\n",
      "   macro avg       0.45      0.46      0.45        33\n",
      "weighted avg       0.50      0.52      0.50        33\n",
      "\n",
      "\n"
     ]
    },
    {
     "data": {
      "text/plain": [
       "GridSearchCV(cv=10, estimator=SVC(),\n",
       "             param_grid=[{'C': [1, 1e-06], 'degree': [2, 5, 9],\n",
       "                          'kernel': ['poly']},\n",
       "                         {'C': [0.01, 0.8, 1, 1.5, 1.7, 2], 'kernel': ['rbf']},\n",
       "                         {'C': [2, 1, 0.5, 0.1, 0.01], 'kernel': ['linear']}],\n",
       "             scoring='f1_macro')"
      ]
     },
     "execution_count": 31,
     "metadata": {},
     "output_type": "execute_result"
    }
   ],
   "source": [
    "import scripts.grid_search\n",
    "\n",
    "model = sklearn.svm.SVC()\n",
    "tuned_parameters = [{'kernel': ['poly'], 'C': [1, 0.000001], 'degree':[2, 5, 9]},\n",
    "                    {'kernel': ['rbf'], 'C': [0.01, 0.8, 1, 1.5, 1.7, 2]},\n",
    "                    {'kernel': ['linear'], 'C': [2, 1, 0.5, 0.1, 0.01]}]\n",
    "\n",
    "scripts.grid_search.main(\n",
    "    (data.X_train, data.y_train, data.X_test, data.y_test), SVC(), tuned_parameters, k=10\n",
    ")"
   ]
  }
 ],
 "metadata": {
  "kernelspec": {
   "display_name": "Python [conda env:BloodBrainClassifier]",
   "language": "python",
   "name": "conda-env-BloodBrainClassifier-py"
  },
  "language_info": {
   "codemirror_mode": {
    "name": "ipython",
    "version": 3
   },
   "file_extension": ".py",
   "mimetype": "text/x-python",
   "name": "python",
   "nbconvert_exporter": "python",
   "pygments_lexer": "ipython3",
   "version": "3.9.4"
  }
 },
 "nbformat": 4,
 "nbformat_minor": 5
}
