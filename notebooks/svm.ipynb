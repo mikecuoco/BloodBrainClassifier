{
 "cells": [
  {
   "cell_type": "markdown",
   "id": "588b927b",
   "metadata": {},
   "source": [
    "# Train and test an SVM"
   ]
  },
  {
   "cell_type": "markdown",
   "id": "d6b8f59d",
   "metadata": {},
   "source": [
    "## Import boilerplate and setup"
   ]
  },
  {
   "cell_type": "code",
   "execution_count": 1,
   "id": "ec53f9fb",
   "metadata": {},
   "outputs": [
    {
     "data": {
      "text/plain": [
       "'/Users/mcuoco/Projects/BloodBrainClassifier'"
      ]
     },
     "execution_count": 1,
     "metadata": {},
     "output_type": "execute_result"
    }
   ],
   "source": [
    "# first, change the working directory, if needed\n",
    "import os\n",
    "if os.getcwd().endswith('notebooks'):\n",
    "    os.chdir('..')\n",
    "os.getcwd()"
   ]
  },
  {
   "cell_type": "code",
   "execution_count": 2,
   "id": "97ef1ab8",
   "metadata": {},
   "outputs": [],
   "source": [
    "# now, import whatever else we need\n",
    "from sklearn.svm import SVC\n",
    "import scripts.starter as data\n",
    "from sklearn.metrics import accuracy_score"
   ]
  },
  {
   "cell_type": "markdown",
   "id": "1f7a80a7-3a8c-4566-80fc-61e041fd244b",
   "metadata": {},
   "source": [
    "## Feature Selection"
   ]
  },
  {
   "cell_type": "code",
   "execution_count": 3,
   "id": "9c0f6c36-6aa0-47fc-a477-08c868c85758",
   "metadata": {},
   "outputs": [
    {
     "name": "stderr",
     "output_type": "stream",
     "text": [
      "converting counts to integer mode\n",
      "estimating size factors\n",
      "estimating dispersions\n",
      "gene-wise dispersion estimates\n",
      "mean-dispersion relationship\n",
      "final dispersion estimates\n",
      "fitting model and testing\n",
      "-- replacing outliers and refitting for 11119 genes\n",
      "-- DESeq argument 'minReplicatesForReplace' = 7 \n",
      "-- original counts are preserved in counts(dds)\n",
      "estimating dispersions\n",
      "fitting model and testing\n"
     ]
    }
   ],
   "source": [
    "%%bash --out selected_genes\n",
    "Rscript scripts/select_DEgenes.R"
   ]
  },
  {
   "cell_type": "code",
   "execution_count": null,
   "id": "9bf3d052-c8b9-41bb-921b-eaf4d3aa38f5",
   "metadata": {},
   "outputs": [],
   "source": [
    "selected_genes = selected_genes.split(\",\")\n",
    "# arya take it from here"
   ]
  },
  {
   "cell_type": "markdown",
   "id": "6047fb36",
   "metadata": {},
   "source": [
    "## Train SVC model"
   ]
  },
  {
   "cell_type": "code",
   "execution_count": null,
   "id": "32747ecb",
   "metadata": {},
   "outputs": [],
   "source": [
    "clf = SVC()\n",
    "clf.fit(data.X_train, data.y_train)"
   ]
  },
  {
   "cell_type": "markdown",
   "id": "23cb5f7d",
   "metadata": {},
   "source": [
    "## Test SVC model"
   ]
  },
  {
   "cell_type": "code",
   "execution_count": null,
   "id": "84df6fc0",
   "metadata": {},
   "outputs": [],
   "source": [
    "y_pred = clf.predict(data.X_test)"
   ]
  },
  {
   "cell_type": "markdown",
   "id": "c2a1f785",
   "metadata": {},
   "source": [
    "## Evaluate the model's performance"
   ]
  },
  {
   "cell_type": "code",
   "execution_count": null,
   "id": "f620c91a",
   "metadata": {},
   "outputs": [],
   "source": [
    "accuracy_score(data.y_test, y_pred)"
   ]
  },
  {
   "cell_type": "code",
   "execution_count": null,
   "id": "b35fafcd",
   "metadata": {},
   "outputs": [],
   "source": [
    "# lol, that's pretty terrible\n",
    "# TODO: improve the model"
   ]
  }
 ],
 "metadata": {
  "kernelspec": {
   "display_name": "Python [conda env:BloodBrainClassifier]",
   "language": "python",
   "name": "conda-env-BloodBrainClassifier-py"
  },
  "language_info": {
   "codemirror_mode": {
    "name": "ipython",
    "version": 3
   },
   "file_extension": ".py",
   "mimetype": "text/x-python",
   "name": "python",
   "nbconvert_exporter": "python",
   "pygments_lexer": "ipython3",
   "version": "3.9.4"
  }
 },
 "nbformat": 4,
 "nbformat_minor": 5
}
